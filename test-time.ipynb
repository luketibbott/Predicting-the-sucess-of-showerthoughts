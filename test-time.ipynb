{
 "cells": [
  {
   "cell_type": "code",
   "execution_count": 1,
   "metadata": {},
   "outputs": [],
   "source": [
    "import pandas as pd\n",
    "import numpy as np\n",
    "import matplotlib.pyplot as plt\n",
    "import redditutils as ru\n",
    "import word2vecReader as wvr\n",
    "\n",
    "from gensim.models import Word2Vec\n",
    "from gensim.models import KeyedVectors\n",
    "\n",
    "from nltk.corpus import stopwords \n",
    "from nltk.tokenize import word_tokenize\n",
    "\n",
    "from sklearn.model_selection import train_test_split\n",
    "from sklearn.model_selection import cross_val_score\n",
    "from sklearn.model_selection import GridSearchCV\n",
    "from sklearn.model_selection import RandomizedSearchCV\n",
    "from sklearn.ensemble import RandomForestClassifier\n",
    "from sklearn.cluster import KMeans\n",
    "from sklearn.cluster import DBSCAN\n",
    "from sklearn.pipeline import make_pipeline\n",
    "from sklearn.preprocessing import Imputer\n",
    "from sklearn.metrics import roc_auc_score\n",
    "from sklearn.naive_bayes import GaussianNB\n",
    "from sklearn.ensemble import GradientBoostingClassifier\n",
    "from sklearn.ensemble import AdaBoostClassifier\n",
    "from sklearn.metrics import recall_score\n",
    "\n",
    "from skopt import BayesSearchCV\n",
    "\n",
    "\n",
    "%load_ext autoreload\n",
    "%autoreload 2"
   ]
  },
  {
   "cell_type": "code",
   "execution_count": 2,
   "metadata": {
    "collapsed": true
   },
   "outputs": [
    {
     "name": "stdout",
     "output_type": "stream",
     "text": [
      "100k_response.pkl             random_forest.pkl\r\n",
      "100k_train.pkl                reddit-ETL.ipynb\r\n",
      "1k_features.pkl               redditutils.py\r\n",
      "1k_response.pkl               results.csv\r\n",
      "25k_test.pkl                  \u001b[34mseinfeld-chronicles\u001b[m\u001b[m\r\n",
      "25k_test_features.pkl         short_test_matrix.csv.mtx\r\n",
      "Model_tuning.ipynb            short_train_matrix.csv.mtx\r\n",
      "Project Fletcher Proposal.pdf shower_clean.csv\r\n",
      "README.md                     showerthoughts-clean.ipynb\r\n",
      "ROC_AUC.png                   showerthoughts.csv\r\n",
      "\u001b[34m__pycache__\u001b[m\u001b[m                   test-time.ipynb\r\n",
      "bayes_search.pkl              test.csv\r\n",
      "classification.ipynb          test_csv.csv.\r\n",
      "cleaned_shower.csv            tfidf.ipynb\r\n",
      "cleaning.csv                  tokenized.csv\r\n",
      "count-vec-models.ipynb        train.csv\r\n",
      "darkweb-EDA.ipynb             truth.pkl\r\n",
      "final_df.csv                  vectorized_df\r\n",
      "final_model.pkl               vectorized_df.csv\r\n",
      "first_5k_response.pkl         w2v_mod.pkl\r\n",
      "first_5k_words.pkl            word2vec.ipynb\r\n",
      "fitted_cv.pkl                 word2vecReader.py\r\n",
      "fitted_lda_short.pkl          word2vecReaderUtils.py\r\n",
      "fixed_100k_train.pkl          word2vec_mod.pkl\r\n",
      "\u001b[34mflask\u001b[m\u001b[m                         word2vec_mod.pkl.vectors.npy\r\n",
      "model-tuning.ipynb            \u001b[34mword2vec_twitter_model\u001b[m\u001b[m\r\n",
      "new_feat.pkl                  word2vec_twitter_model.bin\r\n",
      "preds.pkl\r\n"
     ]
    }
   ],
   "source": [
    "!ls"
   ]
  },
  {
   "cell_type": "code",
   "execution_count": 3,
   "metadata": {},
   "outputs": [
    {
     "name": "stderr",
     "output_type": "stream",
     "text": [
      "/anaconda3/lib/python3.6/site-packages/IPython/core/interactiveshell.py:2785: DtypeWarning: Columns (0) have mixed types. Specify dtype option on import or set low_memory=False.\n",
      "  interactivity=interactivity, compiler=compiler, result=result)\n"
     ]
    }
   ],
   "source": [
    "df = pd.read_csv('final_df.csv')"
   ]
  },
  {
   "cell_type": "code",
   "execution_count": 71,
   "metadata": {},
   "outputs": [],
   "source": [
    "X = df[['title', 'hour', 'dow']]\n",
    "y = df['quality']"
   ]
  },
  {
   "cell_type": "code",
   "execution_count": 5,
   "metadata": {},
   "outputs": [],
   "source": [
    "X_train, X_test, y_train, y_test = train_test_split(X, y, random_state = 2325)"
   ]
  },
  {
   "cell_type": "code",
   "execution_count": 6,
   "metadata": {},
   "outputs": [],
   "source": [
    "X_train_short = X_train[:100000]\n",
    "X_test_short = X_test[:25000]\n",
    "\n",
    "y_train_short = y_train[:100000]\n",
    "y_test_short = y_test[:25000]"
   ]
  },
  {
   "cell_type": "code",
   "execution_count": 25,
   "metadata": {},
   "outputs": [],
   "source": [
    "time = X_train_short['hour']"
   ]
  },
  {
   "cell_type": "code",
   "execution_count": 13,
   "metadata": {},
   "outputs": [],
   "source": [
    "time = np.array(time)"
   ]
  },
  {
   "cell_type": "code",
   "execution_count": 14,
   "metadata": {},
   "outputs": [
    {
     "data": {
      "text/plain": [
       "(array([29547]),)"
      ]
     },
     "execution_count": 14,
     "metadata": {},
     "output_type": "execute_result"
    }
   ],
   "source": [
    "np.where(np.isnan(time))"
   ]
  },
  {
   "cell_type": "code",
   "execution_count": 18,
   "metadata": {},
   "outputs": [
    {
     "name": "stderr",
     "output_type": "stream",
     "text": [
      "/anaconda3/lib/python3.6/site-packages/numpy/lib/function_base.py:3250: RuntimeWarning: Invalid value encountered in median\n",
      "  r = func(a, **kwargs)\n"
     ]
    },
    {
     "data": {
      "text/plain": [
       "nan"
      ]
     },
     "execution_count": 18,
     "metadata": {},
     "output_type": "execute_result"
    }
   ],
   "source": [
    "np.median(time)"
   ]
  },
  {
   "cell_type": "code",
   "execution_count": 21,
   "metadata": {},
   "outputs": [
    {
     "data": {
      "text/plain": [
       "numpy.float64"
      ]
     },
     "execution_count": 21,
     "metadata": {},
     "output_type": "execute_result"
    }
   ],
   "source": [
    "type(time[0])"
   ]
  },
  {
   "cell_type": "code",
   "execution_count": 31,
   "metadata": {},
   "outputs": [
    {
     "data": {
      "text/plain": [
       "12.0"
      ]
     },
     "execution_count": 31,
     "metadata": {},
     "output_type": "execute_result"
    }
   ],
   "source": [
    "time[29547]"
   ]
  },
  {
   "cell_type": "code",
   "execution_count": 33,
   "metadata": {},
   "outputs": [
    {
     "data": {
      "text/plain": [
       "12.0"
      ]
     },
     "execution_count": 33,
     "metadata": {},
     "output_type": "execute_result"
    }
   ],
   "source": [
    "time[29547]"
   ]
  },
  {
   "cell_type": "code",
   "execution_count": 35,
   "metadata": {},
   "outputs": [
    {
     "name": "stderr",
     "output_type": "stream",
     "text": [
      "/anaconda3/lib/python3.6/site-packages/sklearn/utils/deprecation.py:58: DeprecationWarning: Class Imputer is deprecated; Imputer was deprecated in version 0.20 and will be removed in 0.22. Import impute.SimpleImputer from sklearn instead.\n",
      "  warnings.warn(msg, category=DeprecationWarning)\n"
     ]
    }
   ],
   "source": [
    "imp = Imputer(missing_values = np.nan, strategy = 'mean')"
   ]
  },
  {
   "cell_type": "code",
   "execution_count": 40,
   "metadata": {},
   "outputs": [],
   "source": [
    "time = imp.fit_transform(np.array(time).reshape(1, -1))"
   ]
  },
  {
   "cell_type": "code",
   "execution_count": 44,
   "metadata": {},
   "outputs": [],
   "source": [
    "gb = GradientBoostingClassifier()"
   ]
  },
  {
   "cell_type": "code",
   "execution_count": 47,
   "metadata": {},
   "outputs": [
    {
     "name": "stderr",
     "output_type": "stream",
     "text": [
      "/anaconda3/lib/python3.6/site-packages/ipykernel_launcher.py:1: SettingWithCopyWarning: \n",
      "A value is trying to be set on a copy of a slice from a DataFrame.\n",
      "Try using .loc[row_indexer,col_indexer] = value instead\n",
      "\n",
      "See the caveats in the documentation: http://pandas.pydata.org/pandas-docs/stable/indexing.html#indexing-view-versus-copy\n",
      "  \"\"\"Entry point for launching an IPython kernel.\n"
     ]
    }
   ],
   "source": [
    "X_train_short['hour'] = X_train_short['hour'].fillna(X_train_short['hour'].mean())"
   ]
  },
  {
   "cell_type": "code",
   "execution_count": 54,
   "metadata": {},
   "outputs": [],
   "source": [
    "X_train_short = X_train_short['hour'].astype(int)"
   ]
  },
  {
   "cell_type": "code",
   "execution_count": 60,
   "metadata": {
    "collapsed": true
   },
   "outputs": [
    {
     "data": {
      "text/plain": [
       "986502    16\n",
       "410051     9\n",
       "366505    22\n",
       "27722     10\n",
       "773750    21\n",
       "714648     2\n",
       "738479    19\n",
       "517313    14\n",
       "866133    20\n",
       "42053     15\n",
       "145266    13\n",
       "770240    21\n",
       "607590    16\n",
       "977959    16\n",
       "634414    20\n",
       "197698    12\n",
       "31423     22\n",
       "901764     3\n",
       "866272    11\n",
       "491297    21\n",
       "571967    18\n",
       "563087     3\n",
       "628577    16\n",
       "967205    17\n",
       "900417     8\n",
       "615511    23\n",
       "287637    21\n",
       "888694     3\n",
       "731138     7\n",
       "835172    15\n",
       "          ..\n",
       "816267    15\n",
       "413797     1\n",
       "757912     0\n",
       "729855    12\n",
       "479168    21\n",
       "864986     7\n",
       "574308    22\n",
       "264761    17\n",
       "260937     0\n",
       "150626    14\n",
       "540986     4\n",
       "221873     5\n",
       "559767    12\n",
       "448814    18\n",
       "87347      5\n",
       "195368    20\n",
       "525842     7\n",
       "469907    14\n",
       "298994    15\n",
       "96427     18\n",
       "60344     22\n",
       "798771    15\n",
       "427926     3\n",
       "384828     0\n",
       "633118     3\n",
       "351536    11\n",
       "814965    12\n",
       "524625     3\n",
       "814270    11\n",
       "972914    15\n",
       "Name: hour, Length: 100000, dtype: object"
      ]
     },
     "execution_count": 60,
     "metadata": {},
     "output_type": "execute_result"
    }
   ],
   "source": [
    "pd.Series(X_train_short).astype(str)"
   ]
  },
  {
   "cell_type": "code",
   "execution_count": 61,
   "metadata": {},
   "outputs": [],
   "source": [
    "X_train_short = pd.Series(X_train_short).astype(str)"
   ]
  },
  {
   "cell_type": "code",
   "execution_count": 62,
   "metadata": {},
   "outputs": [],
   "source": [
    "scores = cross_val_score(gb, pd.get_dummies(X_train_short), y_train_short, cv=3, scoring='roc_auc')"
   ]
  },
  {
   "cell_type": "code",
   "execution_count": 63,
   "metadata": {},
   "outputs": [
    {
     "data": {
      "text/plain": [
       "array([0.51148299, 0.50620578, 0.5017081 ])"
      ]
     },
     "execution_count": 63,
     "metadata": {},
     "output_type": "execute_result"
    }
   ],
   "source": [
    "scores"
   ]
  },
  {
   "cell_type": "code",
   "execution_count": 65,
   "metadata": {},
   "outputs": [],
   "source": [
    "df.drop(labels=['Unnamed: 0'], axis=1, inplace=True)"
   ]
  }
 ],
 "metadata": {
  "kernelspec": {
   "display_name": "Python 3",
   "language": "python",
   "name": "python3"
  },
  "language_info": {
   "codemirror_mode": {
    "name": "ipython",
    "version": 3
   },
   "file_extension": ".py",
   "mimetype": "text/x-python",
   "name": "python",
   "nbconvert_exporter": "python",
   "pygments_lexer": "ipython3",
   "version": "3.6.5"
  }
 },
 "nbformat": 4,
 "nbformat_minor": 2
}

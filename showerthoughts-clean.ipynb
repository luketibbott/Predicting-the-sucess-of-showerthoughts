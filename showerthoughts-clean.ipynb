{
 "cells": [
  {
   "cell_type": "code",
   "execution_count": 166,
   "metadata": {},
   "outputs": [
    {
     "name": "stdout",
     "output_type": "stream",
     "text": [
      "The autoreload extension is already loaded. To reload it, use:\n",
      "  %reload_ext autoreload\n"
     ]
    }
   ],
   "source": [
    "import pandas as pd\n",
    "import numpy as np\n",
    "import matplotlib.pyplot as plt\n",
    "import re\n",
    "import redditutils\n",
    "\n",
    "\n",
    "from string import punctuation\n",
    "from nltk.corpus import stopwords\n",
    "from nltk.corpus import words\n",
    "from nltk.tokenize import word_tokenize\n",
    "from sklearn.feature_extraction.text import CountVectorizer\n",
    "from gensim import corpora, models, similarities, matutils\n",
    "\n",
    "%matplotlib inline\n",
    "%load_ext autoreload\n",
    "%autoreload 2"
   ]
  },
  {
   "cell_type": "markdown",
   "metadata": {},
   "source": [
    "Suppress Pandas' automatic conversion of utc column to scientific notation:"
   ]
  },
  {
   "cell_type": "code",
   "execution_count": 2,
   "metadata": {},
   "outputs": [],
   "source": [
    "pd.set_option('display.float_format', lambda x: '%.3f' % x)"
   ]
  },
  {
   "cell_type": "code",
   "execution_count": 43,
   "metadata": {},
   "outputs": [],
   "source": [
    "df = pd.read_csv('showerthoughts.csv')"
   ]
  },
  {
   "cell_type": "code",
   "execution_count": 4,
   "metadata": {},
   "outputs": [
    {
     "data": {
      "text/plain": [
       "0.392702"
      ]
     },
     "execution_count": 4,
     "metadata": {},
     "output_type": "execute_result"
    }
   ],
   "source": [
    "len(df[df.score > 1]) / len(df)"
   ]
  },
  {
   "cell_type": "markdown",
   "metadata": {},
   "source": [
    "39% of submissions get more than one upvote. This makes \"greater than one upvote\" a good candidate for our criteria for a good post."
   ]
  },
  {
   "cell_type": "code",
   "execution_count": 5,
   "metadata": {},
   "outputs": [
    {
     "name": "stdout",
     "output_type": "stream",
     "text": [
      "<class 'pandas.core.frame.DataFrame'>\n",
      "RangeIndex: 1000000 entries, 0 to 999999\n",
      "Data columns (total 9 columns):\n",
      "author          1000000 non-null object\n",
      "title           1000000 non-null object\n",
      "subreddit       1000000 non-null object\n",
      "score           1000000 non-null int64\n",
      "num_comments    1000000 non-null int64\n",
      "retrieved_on    1000000 non-null int64\n",
      "id              1000000 non-null object\n",
      "created_utc     1000000 non-null int64\n",
      "selftext        591622 non-null object\n",
      "dtypes: int64(4), object(5)\n",
      "memory usage: 68.7+ MB\n"
     ]
    }
   ],
   "source": [
    "df.info()"
   ]
  },
  {
   "cell_type": "code",
   "execution_count": 44,
   "metadata": {},
   "outputs": [],
   "source": [
    "df['created_utc'] = pd.to_datetime(df['created_utc'], unit='s')"
   ]
  },
  {
   "cell_type": "code",
   "execution_count": 7,
   "metadata": {},
   "outputs": [],
   "source": [
    "pd.set_option('display.max_colwidth', 999)"
   ]
  },
  {
   "cell_type": "code",
   "execution_count": 134,
   "metadata": {},
   "outputs": [
    {
     "data": {
      "text/html": [
       "<div>\n",
       "<style scoped>\n",
       "    .dataframe tbody tr th:only-of-type {\n",
       "        vertical-align: middle;\n",
       "    }\n",
       "\n",
       "    .dataframe tbody tr th {\n",
       "        vertical-align: top;\n",
       "    }\n",
       "\n",
       "    .dataframe thead th {\n",
       "        text-align: right;\n",
       "    }\n",
       "</style>\n",
       "<table border=\"1\" class=\"dataframe\">\n",
       "  <thead>\n",
       "    <tr style=\"text-align: right;\">\n",
       "      <th></th>\n",
       "      <th>author</th>\n",
       "      <th>title</th>\n",
       "      <th>subreddit</th>\n",
       "      <th>score</th>\n",
       "      <th>num_comments</th>\n",
       "      <th>retrieved_on</th>\n",
       "      <th>id</th>\n",
       "      <th>created_utc</th>\n",
       "      <th>selftext</th>\n",
       "      <th>quality</th>\n",
       "    </tr>\n",
       "  </thead>\n",
       "  <tbody>\n",
       "    <tr>\n",
       "      <th>0</th>\n",
       "      <td>os_coxae</td>\n",
       "      <td>everyone that's ever said \"i'm speechless\" is a goddamn liar.</td>\n",
       "      <td>Showerthoughts</td>\n",
       "      <td>0</td>\n",
       "      <td>0</td>\n",
       "      <td>1466445837</td>\n",
       "      <td>4ixl2n</td>\n",
       "      <td>2016-05-11 22:38:48</td>\n",
       "      <td>NaN</td>\n",
       "      <td>0</td>\n",
       "    </tr>\n",
       "    <tr>\n",
       "      <th>1</th>\n",
       "      <td>Calrizle</td>\n",
       "      <td>i wonder how many people i've talked to who have been doing kaigles during our conversation.</td>\n",
       "      <td>Showerthoughts</td>\n",
       "      <td>0</td>\n",
       "      <td>0</td>\n",
       "      <td>1466494743</td>\n",
       "      <td>4lfjxn</td>\n",
       "      <td>2016-05-28 12:03:56</td>\n",
       "      <td>NaN</td>\n",
       "      <td>0</td>\n",
       "    </tr>\n",
       "    <tr>\n",
       "      <th>2</th>\n",
       "      <td>[deleted]</td>\n",
       "      <td>\"palindrome\" is a let down as a word. rhinoplasty sure isn't.</td>\n",
       "      <td>Showerthoughts</td>\n",
       "      <td>0</td>\n",
       "      <td>0</td>\n",
       "      <td>1466493929</td>\n",
       "      <td>4ldt85</td>\n",
       "      <td>2016-05-28 01:21:03</td>\n",
       "      <td>[deleted]</td>\n",
       "      <td>0</td>\n",
       "    </tr>\n",
       "    <tr>\n",
       "      <th>3</th>\n",
       "      <td>[deleted]</td>\n",
       "      <td>when you tell someone to keep a secret, it is no longer a secret</td>\n",
       "      <td>Showerthoughts</td>\n",
       "      <td>0</td>\n",
       "      <td>0</td>\n",
       "      <td>1466423373</td>\n",
       "      <td>4hmcbg</td>\n",
       "      <td>2016-05-03 08:30:35</td>\n",
       "      <td>[deleted]</td>\n",
       "      <td>0</td>\n",
       "    </tr>\n",
       "    <tr>\n",
       "      <th>4</th>\n",
       "      <td>[deleted]</td>\n",
       "      <td>someone had the the time to create the words, \"dick\", \"penis\", and \"vagina\"</td>\n",
       "      <td>Showerthoughts</td>\n",
       "      <td>0</td>\n",
       "      <td>0</td>\n",
       "      <td>1466474842</td>\n",
       "      <td>4k9ngz</td>\n",
       "      <td>2016-05-20 18:29:28</td>\n",
       "      <td>[deleted]</td>\n",
       "      <td>0</td>\n",
       "    </tr>\n",
       "  </tbody>\n",
       "</table>\n",
       "</div>"
      ],
      "text/plain": [
       "      author  \\\n",
       "0   os_coxae   \n",
       "1   Calrizle   \n",
       "2  [deleted]   \n",
       "3  [deleted]   \n",
       "4  [deleted]   \n",
       "\n",
       "                                                                                          title  \\\n",
       "0                                 everyone that's ever said \"i'm speechless\" is a goddamn liar.   \n",
       "1  i wonder how many people i've talked to who have been doing kaigles during our conversation.   \n",
       "2                                 \"palindrome\" is a let down as a word. rhinoplasty sure isn't.   \n",
       "3                              when you tell someone to keep a secret, it is no longer a secret   \n",
       "4                   someone had the the time to create the words, \"dick\", \"penis\", and \"vagina\"   \n",
       "\n",
       "        subreddit  score  num_comments  retrieved_on      id  \\\n",
       "0  Showerthoughts      0             0    1466445837  4ixl2n   \n",
       "1  Showerthoughts      0             0    1466494743  4lfjxn   \n",
       "2  Showerthoughts      0             0    1466493929  4ldt85   \n",
       "3  Showerthoughts      0             0    1466423373  4hmcbg   \n",
       "4  Showerthoughts      0             0    1466474842  4k9ngz   \n",
       "\n",
       "          created_utc   selftext  quality  \n",
       "0 2016-05-11 22:38:48        NaN        0  \n",
       "1 2016-05-28 12:03:56        NaN        0  \n",
       "2 2016-05-28 01:21:03  [deleted]        0  \n",
       "3 2016-05-03 08:30:35  [deleted]        0  \n",
       "4 2016-05-20 18:29:28  [deleted]        0  "
      ]
     },
     "execution_count": 134,
     "metadata": {},
     "output_type": "execute_result"
    }
   ],
   "source": [
    "df.head()"
   ]
  },
  {
   "cell_type": "code",
   "execution_count": 135,
   "metadata": {},
   "outputs": [
    {
     "data": {
      "text/html": [
       "<div>\n",
       "<style scoped>\n",
       "    .dataframe tbody tr th:only-of-type {\n",
       "        vertical-align: middle;\n",
       "    }\n",
       "\n",
       "    .dataframe tbody tr th {\n",
       "        vertical-align: top;\n",
       "    }\n",
       "\n",
       "    .dataframe thead th {\n",
       "        text-align: right;\n",
       "    }\n",
       "</style>\n",
       "<table border=\"1\" class=\"dataframe\">\n",
       "  <thead>\n",
       "    <tr style=\"text-align: right;\">\n",
       "      <th></th>\n",
       "      <th>author</th>\n",
       "      <th>title</th>\n",
       "      <th>subreddit</th>\n",
       "      <th>score</th>\n",
       "      <th>num_comments</th>\n",
       "      <th>retrieved_on</th>\n",
       "      <th>id</th>\n",
       "      <th>created_utc</th>\n",
       "      <th>selftext</th>\n",
       "      <th>quality</th>\n",
       "    </tr>\n",
       "  </thead>\n",
       "  <tbody>\n",
       "    <tr>\n",
       "      <th>990321</th>\n",
       "      <td>Jolkro</td>\n",
       "      <td>tattoos and babies have the same tabu. no one says they are ugly to their owners, but you can be sure the ugliness is talked about to everyone else.</td>\n",
       "      <td>Showerthoughts</td>\n",
       "      <td>1077</td>\n",
       "      <td>49</td>\n",
       "      <td>1536660067</td>\n",
       "      <td>91qs2i</td>\n",
       "      <td>2018-07-25 10:51:13</td>\n",
       "      <td>[removed]</td>\n",
       "      <td>1</td>\n",
       "    </tr>\n",
       "  </tbody>\n",
       "</table>\n",
       "</div>"
      ],
      "text/plain": [
       "        author  \\\n",
       "990321  Jolkro   \n",
       "\n",
       "                                                                                                                                                       title  \\\n",
       "990321  tattoos and babies have the same tabu. no one says they are ugly to their owners, but you can be sure the ugliness is talked about to everyone else.   \n",
       "\n",
       "             subreddit  score  num_comments  retrieved_on      id  \\\n",
       "990321  Showerthoughts   1077            49    1536660067  91qs2i   \n",
       "\n",
       "               created_utc   selftext  quality  \n",
       "990321 2018-07-25 10:51:13  [removed]        1  "
      ]
     },
     "execution_count": 135,
     "metadata": {},
     "output_type": "execute_result"
    }
   ],
   "source": [
    "df.sample()"
   ]
  },
  {
   "cell_type": "code",
   "execution_count": 137,
   "metadata": {},
   "outputs": [],
   "source": [
    "X = df[['title', 'created_utc']]"
   ]
  },
  {
   "cell_type": "code",
   "execution_count": 136,
   "metadata": {},
   "outputs": [],
   "source": [
    "y = df['quality']"
   ]
  },
  {
   "cell_type": "code",
   "execution_count": 158,
   "metadata": {},
   "outputs": [],
   "source": [
    "train = df.iloc[:int(len(df)*.70), :]\n",
    "test = df.iloc[int(len(df)*.70):, :]"
   ]
  },
  {
   "cell_type": "markdown",
   "metadata": {},
   "source": [
    "## Clean the data"
   ]
  },
  {
   "cell_type": "code",
   "execution_count": 149,
   "metadata": {},
   "outputs": [],
   "source": [
    "df_short = df.iloc[:100000, :].copy()"
   ]
  },
  {
   "cell_type": "code",
   "execution_count": 150,
   "metadata": {},
   "outputs": [],
   "source": [
    "df_short['created_utc'] = pd.to_datetime(df['created_utc'], unit='s')"
   ]
  },
  {
   "cell_type": "code",
   "execution_count": 151,
   "metadata": {},
   "outputs": [],
   "source": [
    "df_short['title'] = df_short['title'].apply(lambda x: strip_punc(x))"
   ]
  },
  {
   "cell_type": "code",
   "execution_count": 152,
   "metadata": {},
   "outputs": [],
   "source": [
    "df_short['title'] = df_short['title'].apply(lambda x: redditutils.lower_string(x))"
   ]
  },
  {
   "cell_type": "code",
   "execution_count": 153,
   "metadata": {},
   "outputs": [],
   "source": [
    "df_short['title'] = df_short['title'].apply(lambda x: redditutils.strip_nums(x))"
   ]
  },
  {
   "cell_type": "code",
   "execution_count": 157,
   "metadata": {},
   "outputs": [],
   "source": [
    "df_short_train = df.iloc[:int(len(df_short)*.70), :]\n",
    "df_short_test = df.iloc[int(len(df_short)*.70):, :]"
   ]
  },
  {
   "cell_type": "code",
   "execution_count": 159,
   "metadata": {},
   "outputs": [
    {
     "data": {
      "text/html": [
       "<div>\n",
       "<style scoped>\n",
       "    .dataframe tbody tr th:only-of-type {\n",
       "        vertical-align: middle;\n",
       "    }\n",
       "\n",
       "    .dataframe tbody tr th {\n",
       "        vertical-align: top;\n",
       "    }\n",
       "\n",
       "    .dataframe thead th {\n",
       "        text-align: right;\n",
       "    }\n",
       "</style>\n",
       "<table border=\"1\" class=\"dataframe\">\n",
       "  <thead>\n",
       "    <tr style=\"text-align: right;\">\n",
       "      <th></th>\n",
       "      <th>author</th>\n",
       "      <th>title</th>\n",
       "      <th>subreddit</th>\n",
       "      <th>score</th>\n",
       "      <th>num_comments</th>\n",
       "      <th>retrieved_on</th>\n",
       "      <th>id</th>\n",
       "      <th>created_utc</th>\n",
       "      <th>selftext</th>\n",
       "      <th>quality</th>\n",
       "    </tr>\n",
       "  </thead>\n",
       "  <tbody>\n",
       "    <tr>\n",
       "      <th>70000</th>\n",
       "      <td>AmagicFish</td>\n",
       "      <td>if sony comes out with a k playstation, they should call it \"psk\"</td>\n",
       "      <td>Showerthoughts</td>\n",
       "      <td>1</td>\n",
       "      <td>0</td>\n",
       "      <td>1463484931</td>\n",
       "      <td>4b8o1a</td>\n",
       "      <td>2016-03-20 18:34:50</td>\n",
       "      <td>[removed]</td>\n",
       "      <td>0</td>\n",
       "    </tr>\n",
       "    <tr>\n",
       "      <th>70001</th>\n",
       "      <td>Phileas_Fogg</td>\n",
       "      <td>they guy that set up clinton's email server probably asked for help here on reddit.</td>\n",
       "      <td>Showerthoughts</td>\n",
       "      <td>1</td>\n",
       "      <td>0</td>\n",
       "      <td>1463496352</td>\n",
       "      <td>4bwp2r</td>\n",
       "      <td>2016-03-25 14:35:59</td>\n",
       "      <td>[removed]</td>\n",
       "      <td>0</td>\n",
       "    </tr>\n",
       "    <tr>\n",
       "      <th>70002</th>\n",
       "      <td>Thenotoriouscanadian</td>\n",
       "      <td>today, march th, is pi day, nap day and steak &amp;amp; bj day</td>\n",
       "      <td>Showerthoughts</td>\n",
       "      <td>1</td>\n",
       "      <td>0</td>\n",
       "      <td>1463470751</td>\n",
       "      <td>4aevlu</td>\n",
       "      <td>2016-03-14 20:16:49</td>\n",
       "      <td>[removed]</td>\n",
       "      <td>0</td>\n",
       "    </tr>\n",
       "    <tr>\n",
       "      <th>70003</th>\n",
       "      <td>theredwillow</td>\n",
       "      <td>now that facebook shows users pages similar to what they've commented on before, the pages get more hateful comments</td>\n",
       "      <td>Showerthoughts</td>\n",
       "      <td>1</td>\n",
       "      <td>0</td>\n",
       "      <td>1463483543</td>\n",
       "      <td>4b5p18</td>\n",
       "      <td>2016-03-20 01:11:19</td>\n",
       "      <td>NaN</td>\n",
       "      <td>0</td>\n",
       "    </tr>\n",
       "    <tr>\n",
       "      <th>70004</th>\n",
       "      <td>[deleted]</td>\n",
       "      <td>life hacks</td>\n",
       "      <td>Showerthoughts</td>\n",
       "      <td>1</td>\n",
       "      <td>0</td>\n",
       "      <td>1463457576</td>\n",
       "      <td>49n8my</td>\n",
       "      <td>2016-03-09 08:39:09</td>\n",
       "      <td>[deleted]</td>\n",
       "      <td>0</td>\n",
       "    </tr>\n",
       "  </tbody>\n",
       "</table>\n",
       "</div>"
      ],
      "text/plain": [
       "                     author  \\\n",
       "70000            AmagicFish   \n",
       "70001          Phileas_Fogg   \n",
       "70002  Thenotoriouscanadian   \n",
       "70003          theredwillow   \n",
       "70004             [deleted]   \n",
       "\n",
       "                                                                                                                      title  \\\n",
       "70000                                                     if sony comes out with a k playstation, they should call it \"psk\"   \n",
       "70001                                   they guy that set up clinton's email server probably asked for help here on reddit.   \n",
       "70002                                                            today, march th, is pi day, nap day and steak &amp; bj day   \n",
       "70003  now that facebook shows users pages similar to what they've commented on before, the pages get more hateful comments   \n",
       "70004                                                                                                            life hacks   \n",
       "\n",
       "            subreddit  score  num_comments  retrieved_on      id  \\\n",
       "70000  Showerthoughts      1             0    1463484931  4b8o1a   \n",
       "70001  Showerthoughts      1             0    1463496352  4bwp2r   \n",
       "70002  Showerthoughts      1             0    1463470751  4aevlu   \n",
       "70003  Showerthoughts      1             0    1463483543  4b5p18   \n",
       "70004  Showerthoughts      1             0    1463457576  49n8my   \n",
       "\n",
       "              created_utc   selftext  quality  \n",
       "70000 2016-03-20 18:34:50  [removed]        0  \n",
       "70001 2016-03-25 14:35:59  [removed]        0  \n",
       "70002 2016-03-14 20:16:49  [removed]        0  \n",
       "70003 2016-03-20 01:11:19        NaN        0  \n",
       "70004 2016-03-09 08:39:09  [deleted]        0  "
      ]
     },
     "execution_count": 159,
     "metadata": {},
     "output_type": "execute_result"
    }
   ],
   "source": [
    "df_short_test.head()"
   ]
  },
  {
   "cell_type": "code",
   "execution_count": 160,
   "metadata": {},
   "outputs": [],
   "source": [
    "words_corpus = set(words.words())\n",
    "analyzer = CountVectorizer().build_analyzer()\n",
    "\n",
    "def english_corpus(doc):\n",
    "    return [w for w in analyzer(doc) if w in words_corpus]\n",
    "\n",
    "cv = CountVectorizer(stop_words='english', analyzer=english_corpus, min_df = 2, max_df = .95, ngram_range=(1, 2),\n",
    "                     strip_accents='unicode', encoding='utf-8')"
   ]
  },
  {
   "cell_type": "code",
   "execution_count": 162,
   "metadata": {},
   "outputs": [],
   "source": [
    "X_short_train = cv.fit_transform(df_short_train['title'])"
   ]
  },
  {
   "cell_type": "code",
   "execution_count": 163,
   "metadata": {},
   "outputs": [],
   "source": [
    "X_short_test = cv.fit_transform(df_short_test['title'])"
   ]
  },
  {
   "cell_type": "code",
   "execution_count": 165,
   "metadata": {},
   "outputs": [
    {
     "data": {
      "text/html": [
       "<div>\n",
       "<style scoped>\n",
       "    .dataframe tbody tr th:only-of-type {\n",
       "        vertical-align: middle;\n",
       "    }\n",
       "\n",
       "    .dataframe tbody tr th {\n",
       "        vertical-align: top;\n",
       "    }\n",
       "\n",
       "    .dataframe thead th {\n",
       "        text-align: right;\n",
       "    }\n",
       "</style>\n",
       "<table border=\"1\" class=\"dataframe\">\n",
       "  <thead>\n",
       "    <tr style=\"text-align: right;\">\n",
       "      <th></th>\n",
       "      <th>author</th>\n",
       "      <th>title</th>\n",
       "      <th>subreddit</th>\n",
       "      <th>score</th>\n",
       "      <th>num_comments</th>\n",
       "      <th>retrieved_on</th>\n",
       "      <th>id</th>\n",
       "      <th>created_utc</th>\n",
       "      <th>selftext</th>\n",
       "      <th>quality</th>\n",
       "    </tr>\n",
       "  </thead>\n",
       "  <tbody>\n",
       "    <tr>\n",
       "      <th>0</th>\n",
       "      <td>os_coxae</td>\n",
       "      <td>everyone that's ever said \"i'm speechless\" is a goddamn liar.</td>\n",
       "      <td>Showerthoughts</td>\n",
       "      <td>0</td>\n",
       "      <td>0</td>\n",
       "      <td>1466445837</td>\n",
       "      <td>4ixl2n</td>\n",
       "      <td>2016-05-11 22:38:48</td>\n",
       "      <td>NaN</td>\n",
       "      <td>0</td>\n",
       "    </tr>\n",
       "    <tr>\n",
       "      <th>1</th>\n",
       "      <td>Calrizle</td>\n",
       "      <td>i wonder how many people i've talked to who have been doing kaigles during our conversation.</td>\n",
       "      <td>Showerthoughts</td>\n",
       "      <td>0</td>\n",
       "      <td>0</td>\n",
       "      <td>1466494743</td>\n",
       "      <td>4lfjxn</td>\n",
       "      <td>2016-05-28 12:03:56</td>\n",
       "      <td>NaN</td>\n",
       "      <td>0</td>\n",
       "    </tr>\n",
       "    <tr>\n",
       "      <th>2</th>\n",
       "      <td>[deleted]</td>\n",
       "      <td>\"palindrome\" is a let down as a word. rhinoplasty sure isn't.</td>\n",
       "      <td>Showerthoughts</td>\n",
       "      <td>0</td>\n",
       "      <td>0</td>\n",
       "      <td>1466493929</td>\n",
       "      <td>4ldt85</td>\n",
       "      <td>2016-05-28 01:21:03</td>\n",
       "      <td>[deleted]</td>\n",
       "      <td>0</td>\n",
       "    </tr>\n",
       "    <tr>\n",
       "      <th>3</th>\n",
       "      <td>[deleted]</td>\n",
       "      <td>when you tell someone to keep a secret, it is no longer a secret</td>\n",
       "      <td>Showerthoughts</td>\n",
       "      <td>0</td>\n",
       "      <td>0</td>\n",
       "      <td>1466423373</td>\n",
       "      <td>4hmcbg</td>\n",
       "      <td>2016-05-03 08:30:35</td>\n",
       "      <td>[deleted]</td>\n",
       "      <td>0</td>\n",
       "    </tr>\n",
       "    <tr>\n",
       "      <th>4</th>\n",
       "      <td>[deleted]</td>\n",
       "      <td>someone had the the time to create the words, \"dick\", \"penis\", and \"vagina\"</td>\n",
       "      <td>Showerthoughts</td>\n",
       "      <td>0</td>\n",
       "      <td>0</td>\n",
       "      <td>1466474842</td>\n",
       "      <td>4k9ngz</td>\n",
       "      <td>2016-05-20 18:29:28</td>\n",
       "      <td>[deleted]</td>\n",
       "      <td>0</td>\n",
       "    </tr>\n",
       "  </tbody>\n",
       "</table>\n",
       "</div>"
      ],
      "text/plain": [
       "      author  \\\n",
       "0   os_coxae   \n",
       "1   Calrizle   \n",
       "2  [deleted]   \n",
       "3  [deleted]   \n",
       "4  [deleted]   \n",
       "\n",
       "                                                                                          title  \\\n",
       "0                                 everyone that's ever said \"i'm speechless\" is a goddamn liar.   \n",
       "1  i wonder how many people i've talked to who have been doing kaigles during our conversation.   \n",
       "2                                 \"palindrome\" is a let down as a word. rhinoplasty sure isn't.   \n",
       "3                              when you tell someone to keep a secret, it is no longer a secret   \n",
       "4                   someone had the the time to create the words, \"dick\", \"penis\", and \"vagina\"   \n",
       "\n",
       "        subreddit  score  num_comments  retrieved_on      id  \\\n",
       "0  Showerthoughts      0             0    1466445837  4ixl2n   \n",
       "1  Showerthoughts      0             0    1466494743  4lfjxn   \n",
       "2  Showerthoughts      0             0    1466493929  4ldt85   \n",
       "3  Showerthoughts      0             0    1466423373  4hmcbg   \n",
       "4  Showerthoughts      0             0    1466474842  4k9ngz   \n",
       "\n",
       "          created_utc   selftext  quality  \n",
       "0 2016-05-11 22:38:48        NaN        0  \n",
       "1 2016-05-28 12:03:56        NaN        0  \n",
       "2 2016-05-28 01:21:03  [deleted]        0  \n",
       "3 2016-05-03 08:30:35  [deleted]        0  \n",
       "4 2016-05-20 18:29:28  [deleted]        0  "
      ]
     },
     "execution_count": 165,
     "metadata": {},
     "output_type": "execute_result"
    }
   ],
   "source": [
    "df_short_train.head()"
   ]
  },
  {
   "cell_type": "code",
   "execution_count": 167,
   "metadata": {},
   "outputs": [],
   "source": [
    "counts = X_short_train.transpose()"
   ]
  },
  {
   "cell_type": "code",
   "execution_count": 168,
   "metadata": {},
   "outputs": [
    {
     "data": {
      "text/plain": [
       "(11313, 70000)"
      ]
     },
     "execution_count": 168,
     "metadata": {},
     "output_type": "execute_result"
    }
   ],
   "source": [
    "counts.shape"
   ]
  },
  {
   "cell_type": "code",
   "execution_count": 169,
   "metadata": {},
   "outputs": [],
   "source": [
    "corpus = matutils.Sparse2Corpus(counts)"
   ]
  },
  {
   "cell_type": "code",
   "execution_count": 175,
   "metadata": {},
   "outputs": [],
   "source": [
    "id2word = dict((v, k) for k, v in cv.vocabulary_.items())"
   ]
  },
  {
   "cell_type": "code",
   "execution_count": null,
   "metadata": {},
   "outputs": [],
   "source": [
    "lda = models.LdaModel(corpus=corpus, num_topics=5, minimum_probability=.03, id2word=id2word, passes=10)"
   ]
  },
  {
   "cell_type": "code",
   "execution_count": null,
   "metadata": {},
   "outputs": [],
   "source": []
  },
  {
   "cell_type": "code",
   "execution_count": null,
   "metadata": {},
   "outputs": [],
   "source": []
  },
  {
   "cell_type": "code",
   "execution_count": null,
   "metadata": {},
   "outputs": [],
   "source": []
  },
  {
   "cell_type": "code",
   "execution_count": null,
   "metadata": {},
   "outputs": [],
   "source": []
  },
  {
   "cell_type": "code",
   "execution_count": null,
   "metadata": {},
   "outputs": [],
   "source": []
  },
  {
   "cell_type": "code",
   "execution_count": null,
   "metadata": {},
   "outputs": [],
   "source": []
  },
  {
   "cell_type": "code",
   "execution_count": null,
   "metadata": {},
   "outputs": [],
   "source": []
  },
  {
   "cell_type": "code",
   "execution_count": null,
   "metadata": {},
   "outputs": [],
   "source": []
  },
  {
   "cell_type": "code",
   "execution_count": null,
   "metadata": {},
   "outputs": [],
   "source": []
  },
  {
   "cell_type": "code",
   "execution_count": null,
   "metadata": {},
   "outputs": [],
   "source": []
  },
  {
   "cell_type": "code",
   "execution_count": null,
   "metadata": {},
   "outputs": [],
   "source": []
  },
  {
   "cell_type": "code",
   "execution_count": null,
   "metadata": {},
   "outputs": [],
   "source": []
  },
  {
   "cell_type": "code",
   "execution_count": 19,
   "metadata": {},
   "outputs": [],
   "source": [
    "def strip_punc(s):\n",
    "    return ''.join(c for c in s if c not in punctuation)"
   ]
  },
  {
   "cell_type": "code",
   "execution_count": 21,
   "metadata": {},
   "outputs": [],
   "source": [
    "df['title'] = df['title'].apply(lambda x: strip_punc(x))"
   ]
  },
  {
   "cell_type": "code",
   "execution_count": 46,
   "metadata": {},
   "outputs": [],
   "source": [
    "df['title'] = df['title'].apply(lambda x: redditutils.lower_string(x))"
   ]
  },
  {
   "cell_type": "code",
   "execution_count": 47,
   "metadata": {},
   "outputs": [],
   "source": [
    "df['title'] = df['title'].apply(lambda x: redditutils.strip_nums(x))"
   ]
  },
  {
   "cell_type": "code",
   "execution_count": 128,
   "metadata": {},
   "outputs": [],
   "source": [
    "df['quality'] = df['score'].apply(lambda x: redditutils.make_labels(x))"
   ]
  }
 ],
 "metadata": {
  "kernelspec": {
   "display_name": "Python 3",
   "language": "python",
   "name": "python3"
  },
  "language_info": {
   "codemirror_mode": {
    "name": "ipython",
    "version": 3
   },
   "file_extension": ".py",
   "mimetype": "text/x-python",
   "name": "python",
   "nbconvert_exporter": "python",
   "pygments_lexer": "ipython3",
   "version": "3.6.5"
  }
 },
 "nbformat": 4,
 "nbformat_minor": 2
}

{
 "cells": [
  {
   "cell_type": "code",
   "execution_count": 1,
   "metadata": {},
   "outputs": [],
   "source": [
    "import pandas as pd\n",
    "import numpy as np\n",
    "import matplotlib.pyplot as plt\n",
    "import re\n",
    "import redditutils\n",
    "\n",
    "\n",
    "from string import punctuation\n",
    "from nltk.corpus import stopwords\n",
    "from nltk.corpus import words\n",
    "from nltk.tokenize import word_tokenize\n",
    "from sklearn.feature_extraction.text import CountVectorizer\n",
    "\n",
    "%matplotlib inline\n",
    "%load_ext autoreload\n",
    "%autoreload 2"
   ]
  },
  {
   "cell_type": "markdown",
   "metadata": {},
   "source": [
    "Suppress Pandas' automatic conversion of utc column to scientific notation:"
   ]
  },
  {
   "cell_type": "code",
   "execution_count": 2,
   "metadata": {},
   "outputs": [],
   "source": [
    "pd.set_option('display.float_format', lambda x: '%.3f' % x)"
   ]
  },
  {
   "cell_type": "code",
   "execution_count": 43,
   "metadata": {},
   "outputs": [],
   "source": [
    "df = pd.read_csv('showerthoughts.csv')"
   ]
  },
  {
   "cell_type": "code",
   "execution_count": 4,
   "metadata": {},
   "outputs": [
    {
     "data": {
      "text/plain": [
       "0.392702"
      ]
     },
     "execution_count": 4,
     "metadata": {},
     "output_type": "execute_result"
    }
   ],
   "source": [
    "len(df[df.score > 1]) / len(df)"
   ]
  },
  {
   "cell_type": "markdown",
   "metadata": {},
   "source": [
    "39% of submissions get more than one upvote. This makes \"greater than one upvote\" a good candidate for our criteria for a good post."
   ]
  },
  {
   "cell_type": "code",
   "execution_count": 5,
   "metadata": {},
   "outputs": [
    {
     "name": "stdout",
     "output_type": "stream",
     "text": [
      "<class 'pandas.core.frame.DataFrame'>\n",
      "RangeIndex: 1000000 entries, 0 to 999999\n",
      "Data columns (total 9 columns):\n",
      "author          1000000 non-null object\n",
      "title           1000000 non-null object\n",
      "subreddit       1000000 non-null object\n",
      "score           1000000 non-null int64\n",
      "num_comments    1000000 non-null int64\n",
      "retrieved_on    1000000 non-null int64\n",
      "id              1000000 non-null object\n",
      "created_utc     1000000 non-null int64\n",
      "selftext        591622 non-null object\n",
      "dtypes: int64(4), object(5)\n",
      "memory usage: 68.7+ MB\n"
     ]
    }
   ],
   "source": [
    "df.info()"
   ]
  },
  {
   "cell_type": "code",
   "execution_count": 44,
   "metadata": {},
   "outputs": [],
   "source": [
    "df['created_utc'] = pd.to_datetime(df['created_utc'], unit='s')"
   ]
  },
  {
   "cell_type": "code",
   "execution_count": 7,
   "metadata": {},
   "outputs": [],
   "source": [
    "pd.set_option('display.max_colwidth', 999)"
   ]
  },
  {
   "cell_type": "markdown",
   "metadata": {},
   "source": [
    "## Clean the data"
   ]
  },
  {
   "cell_type": "code",
   "execution_count": 110,
   "metadata": {},
   "outputs": [],
   "source": [
    "df_short = df.iloc[:100000, :].copy()"
   ]
  },
  {
   "cell_type": "code",
   "execution_count": 111,
   "metadata": {},
   "outputs": [],
   "source": [
    "df_short['created_utc'] = pd.to_datetime(df['created_utc'], unit='s')"
   ]
  },
  {
   "cell_type": "code",
   "execution_count": 112,
   "metadata": {},
   "outputs": [],
   "source": [
    "df_short['title'] = df_short['title'].apply(lambda x: strip_punc(x))"
   ]
  },
  {
   "cell_type": "code",
   "execution_count": 113,
   "metadata": {},
   "outputs": [],
   "source": [
    "df_short['title'] = df_short['title'].apply(lambda x: redditutils.lower_string(x))"
   ]
  },
  {
   "cell_type": "code",
   "execution_count": 115,
   "metadata": {},
   "outputs": [],
   "source": [
    "df_short['title'] = df_short['title'].apply(lambda x: redditutils.strip_nums(x))"
   ]
  },
  {
   "cell_type": "code",
   "execution_count": 19,
   "metadata": {},
   "outputs": [],
   "source": [
    "def strip_punc(s):\n",
    "    return ''.join(c for c in s if c not in punctuation)"
   ]
  },
  {
   "cell_type": "code",
   "execution_count": 21,
   "metadata": {},
   "outputs": [],
   "source": [
    "df['title'] = df['title'].apply(lambda x: strip_punc(x))"
   ]
  },
  {
   "cell_type": "code",
   "execution_count": 46,
   "metadata": {},
   "outputs": [],
   "source": [
    "df['title'] = df['title'].apply(lambda x: redditutils.lower_string(x))"
   ]
  },
  {
   "cell_type": "code",
   "execution_count": 47,
   "metadata": {},
   "outputs": [],
   "source": [
    "df['title'] = df['title'].apply(lambda x: redditutils.strip_nums(x))"
   ]
  },
  {
   "cell_type": "code",
   "execution_count": 26,
   "metadata": {},
   "outputs": [],
   "source": [
    "df.to_csv('cleaning.csv')"
   ]
  },
  {
   "cell_type": "code",
   "execution_count": 91,
   "metadata": {},
   "outputs": [],
   "source": [
    "words_corpus = set(words.words())\n",
    "analyzer = CountVectorizer().build_analyzer()\n",
    "\n",
    "def english_corpus(doc):\n",
    "    return [w for w in analyzer(doc) if w in words_corpus]\n",
    "\n",
    "# min_df and max_df\n",
    "cv = CountVectorizer(stop_words='english', analyzer=english_corpus, min_df = 2, max_df = .95, ngram_range=(1, 2),\n",
    "                     strip_accents='unicode', encoding='utf-8')"
   ]
  },
  {
   "cell_type": "code",
   "execution_count": 124,
   "metadata": {},
   "outputs": [],
   "source": [
    "short_cv_df = pd.DataFrame(short_cv.toarray(), columns=cv.get_feature_names())"
   ]
  },
  {
   "cell_type": "code",
   "execution_count": 104,
   "metadata": {},
   "outputs": [],
   "source": [
    "cv_2gram = CountVectorizer(stop_words='english', analyzer=english_corpus, min_df = 2, max_df = .95, ngram_range=(2, 2),\n",
    "                           strip_accents='unicode', encoding='utf-8')"
   ]
  },
  {
   "cell_type": "code",
   "execution_count": 92,
   "metadata": {},
   "outputs": [],
   "source": [
    "X = cv.fit_transform(df['title'])"
   ]
  },
  {
   "cell_type": "code",
   "execution_count": 105,
   "metadata": {},
   "outputs": [],
   "source": [
    "X2 = cv_2gram.fit_transform(df['title'])"
   ]
  },
  {
   "cell_type": "code",
   "execution_count": 106,
   "metadata": {},
   "outputs": [],
   "source": [
    "cv_df2 = pd.DataFrame(X2.toarray(), columns = cv.get_feature_names())"
   ]
  },
  {
   "cell_type": "code",
   "execution_count": 107,
   "metadata": {},
   "outputs": [
    {
     "data": {
      "text/html": [
       "<div>\n",
       "<style scoped>\n",
       "    .dataframe tbody tr th:only-of-type {\n",
       "        vertical-align: middle;\n",
       "    }\n",
       "\n",
       "    .dataframe tbody tr th {\n",
       "        vertical-align: top;\n",
       "    }\n",
       "\n",
       "    .dataframe thead th {\n",
       "        text-align: right;\n",
       "    }\n",
       "</style>\n",
       "<table border=\"1\" class=\"dataframe\">\n",
       "  <thead>\n",
       "    <tr style=\"text-align: right;\">\n",
       "      <th></th>\n",
       "      <th>aa</th>\n",
       "      <th>aal</th>\n",
       "      <th>aardvark</th>\n",
       "      <th>aback</th>\n",
       "      <th>abacus</th>\n",
       "      <th>abandon</th>\n",
       "      <th>abandoned</th>\n",
       "      <th>abandonment</th>\n",
       "      <th>abate</th>\n",
       "      <th>abbey</th>\n",
       "      <th>...</th>\n",
       "      <th>zoning</th>\n",
       "      <th>zoo</th>\n",
       "      <th>zoologist</th>\n",
       "      <th>zoology</th>\n",
       "      <th>zoom</th>\n",
       "      <th>zoophile</th>\n",
       "      <th>zoophilia</th>\n",
       "      <th>zorro</th>\n",
       "      <th>zucchini</th>\n",
       "      <th>zygote</th>\n",
       "    </tr>\n",
       "  </thead>\n",
       "  <tbody>\n",
       "    <tr>\n",
       "      <th>0</th>\n",
       "      <td>0</td>\n",
       "      <td>0</td>\n",
       "      <td>0</td>\n",
       "      <td>0</td>\n",
       "      <td>0</td>\n",
       "      <td>0</td>\n",
       "      <td>0</td>\n",
       "      <td>0</td>\n",
       "      <td>0</td>\n",
       "      <td>0</td>\n",
       "      <td>...</td>\n",
       "      <td>0</td>\n",
       "      <td>0</td>\n",
       "      <td>0</td>\n",
       "      <td>0</td>\n",
       "      <td>0</td>\n",
       "      <td>0</td>\n",
       "      <td>0</td>\n",
       "      <td>0</td>\n",
       "      <td>0</td>\n",
       "      <td>0</td>\n",
       "    </tr>\n",
       "    <tr>\n",
       "      <th>1</th>\n",
       "      <td>0</td>\n",
       "      <td>0</td>\n",
       "      <td>0</td>\n",
       "      <td>0</td>\n",
       "      <td>0</td>\n",
       "      <td>0</td>\n",
       "      <td>0</td>\n",
       "      <td>0</td>\n",
       "      <td>0</td>\n",
       "      <td>0</td>\n",
       "      <td>...</td>\n",
       "      <td>0</td>\n",
       "      <td>0</td>\n",
       "      <td>0</td>\n",
       "      <td>0</td>\n",
       "      <td>0</td>\n",
       "      <td>0</td>\n",
       "      <td>0</td>\n",
       "      <td>0</td>\n",
       "      <td>0</td>\n",
       "      <td>0</td>\n",
       "    </tr>\n",
       "    <tr>\n",
       "      <th>2</th>\n",
       "      <td>0</td>\n",
       "      <td>0</td>\n",
       "      <td>0</td>\n",
       "      <td>0</td>\n",
       "      <td>0</td>\n",
       "      <td>0</td>\n",
       "      <td>0</td>\n",
       "      <td>0</td>\n",
       "      <td>0</td>\n",
       "      <td>0</td>\n",
       "      <td>...</td>\n",
       "      <td>0</td>\n",
       "      <td>0</td>\n",
       "      <td>0</td>\n",
       "      <td>0</td>\n",
       "      <td>0</td>\n",
       "      <td>0</td>\n",
       "      <td>0</td>\n",
       "      <td>0</td>\n",
       "      <td>0</td>\n",
       "      <td>0</td>\n",
       "    </tr>\n",
       "    <tr>\n",
       "      <th>3</th>\n",
       "      <td>0</td>\n",
       "      <td>0</td>\n",
       "      <td>0</td>\n",
       "      <td>0</td>\n",
       "      <td>0</td>\n",
       "      <td>0</td>\n",
       "      <td>0</td>\n",
       "      <td>0</td>\n",
       "      <td>0</td>\n",
       "      <td>0</td>\n",
       "      <td>...</td>\n",
       "      <td>0</td>\n",
       "      <td>0</td>\n",
       "      <td>0</td>\n",
       "      <td>0</td>\n",
       "      <td>0</td>\n",
       "      <td>0</td>\n",
       "      <td>0</td>\n",
       "      <td>0</td>\n",
       "      <td>0</td>\n",
       "      <td>0</td>\n",
       "    </tr>\n",
       "    <tr>\n",
       "      <th>4</th>\n",
       "      <td>0</td>\n",
       "      <td>0</td>\n",
       "      <td>0</td>\n",
       "      <td>0</td>\n",
       "      <td>0</td>\n",
       "      <td>0</td>\n",
       "      <td>0</td>\n",
       "      <td>0</td>\n",
       "      <td>0</td>\n",
       "      <td>0</td>\n",
       "      <td>...</td>\n",
       "      <td>0</td>\n",
       "      <td>0</td>\n",
       "      <td>0</td>\n",
       "      <td>0</td>\n",
       "      <td>0</td>\n",
       "      <td>0</td>\n",
       "      <td>0</td>\n",
       "      <td>0</td>\n",
       "      <td>0</td>\n",
       "      <td>0</td>\n",
       "    </tr>\n",
       "  </tbody>\n",
       "</table>\n",
       "<p>5 rows × 23460 columns</p>\n",
       "</div>"
      ],
      "text/plain": [
       "   aa  aal  aardvark  aback  abacus  abandon  abandoned  abandonment  abate  \\\n",
       "0   0    0         0      0       0        0          0            0      0   \n",
       "1   0    0         0      0       0        0          0            0      0   \n",
       "2   0    0         0      0       0        0          0            0      0   \n",
       "3   0    0         0      0       0        0          0            0      0   \n",
       "4   0    0         0      0       0        0          0            0      0   \n",
       "\n",
       "   abbey   ...    zoning  zoo  zoologist  zoology  zoom  zoophile  zoophilia  \\\n",
       "0      0   ...         0    0          0        0     0         0          0   \n",
       "1      0   ...         0    0          0        0     0         0          0   \n",
       "2      0   ...         0    0          0        0     0         0          0   \n",
       "3      0   ...         0    0          0        0     0         0          0   \n",
       "4      0   ...         0    0          0        0     0         0          0   \n",
       "\n",
       "   zorro  zucchini  zygote  \n",
       "0      0         0       0  \n",
       "1      0         0       0  \n",
       "2      0         0       0  \n",
       "3      0         0       0  \n",
       "4      0         0       0  \n",
       "\n",
       "[5 rows x 23460 columns]"
      ]
     },
     "execution_count": 107,
     "metadata": {},
     "output_type": "execute_result"
    }
   ],
   "source": [
    "cv_df2.head()"
   ]
  },
  {
   "cell_type": "code",
   "execution_count": 94,
   "metadata": {},
   "outputs": [],
   "source": [
    "cv_df = pd.DataFrame(X.toarray(), columns = cv.get_feature_names())"
   ]
  },
  {
   "cell_type": "code",
   "execution_count": 102,
   "metadata": {},
   "outputs": [
    {
     "data": {
      "text/plain": [
       "array(['argon', 'arguable', 'argue', 'argument', 'argumentative', 'arid',\n",
       "       'ariel', 'arise', 'arisen', 'aristocracy', 'aristocrat',\n",
       "       'aristocratic', 'arithmetic', 'arithmetically', 'ark', 'arm',\n",
       "       'armada', 'armadillo', 'armament', 'armchair', 'armed', 'arming',\n",
       "       'armistice', 'armless', 'armor', 'armored', 'armpit', 'armrest',\n",
       "       'arms', 'army', 'arn', 'aroma', 'aromatic', 'arose', 'around',\n",
       "       'arousal', 'arouse', 'arrange', 'arrangement', 'array', 'arrest',\n",
       "       'arresting', 'arrival', 'arrive', 'arrogance', 'arrogant',\n",
       "       'arrogantly', 'arrow', 'arrowhead', 'arse', 'arsenal', 'arsenic',\n",
       "       'arses', 'arson', 'arsonist', 'art', 'artefact', 'artery',\n",
       "       'artesian', 'artful', 'artfully', 'arthritis', 'artichoke',\n",
       "       'article', 'articulate', 'articulated', 'articulately',\n",
       "       'articulation', 'artifact', 'artificial', 'artificially',\n",
       "       'artillery', 'artisan', 'artist', 'artistic', 'artistically',\n",
       "       'artistry', 'ary', 'as', 'asbestos', 'ascend', 'ascendance',\n",
       "       'ascending', 'ascension', 'ascent', 'ascertain', 'ascii', 'ascot',\n",
       "       'ascribe', 'asexual', 'asexuality', 'asexually', 'ash', 'ashamed',\n",
       "       'ashes', 'ashore', 'ashy', 'aside', 'asinine', 'ask', 'asker',\n",
       "       'asleep', 'asocial', 'asparagus', 'aspect', 'aspen', 'asperger',\n",
       "       'aspersion', 'asphalt', 'asphyxia', 'asphyxiate', 'asphyxiation',\n",
       "       'aspiration', 'aspire', 'aspirin', 'aspiring', 'ass', 'assail',\n",
       "       'assailant', 'assassin', 'assassinate', 'assassination', 'assault',\n",
       "       'assaulter', 'assemble', 'assembler', 'assembly', 'assert',\n",
       "       'assertion', 'assertive', 'assess', 'assessed', 'assessment',\n",
       "       'asset', 'assets', 'assign', 'assigned', 'assignment',\n",
       "       'assimilate', 'assimilation', 'assist', 'assistance', 'assistant',\n",
       "       'associate', 'associated', 'association', 'assonant', 'assorted',\n",
       "       'assortment', 'assume', 'assumed', 'assuming', 'assumption',\n",
       "       'assurance', 'assure', 'assured', 'assuredly', 'assuring',\n",
       "       'astely', 'asterisk', 'asteroid', 'asthma', 'asthmatic',\n",
       "       'astigmatism', 'astonishing', 'astonishingly', 'astonishment',\n",
       "       'astound', 'astounding', 'astoundingly', 'astral', 'astray',\n",
       "       'astroid', 'astrologer', 'astrological', 'astrologically',\n",
       "       'astrology', 'astronaut', 'astronomer', 'astronomical',\n",
       "       'astronomically', 'astronomy', 'astrophysicist', 'astrophysics',\n",
       "       'astute', 'aswell', 'asylum', 'asymmetric', 'asymmetrical',\n",
       "       'asymmetry', 'asymptote', 'at', 'ate', 'atheism', 'atheist',\n",
       "       'atheistic', 'athlete', 'athletic', 'athletically', 'athleticism',\n",
       "       'athletics', 'atlantic', 'atlas', 'atmos', 'atmosphere',\n",
       "       'atmospheric', 'atoll', 'atom', 'atomic', 'atomically', 'atone',\n",
       "       'atop', 'atrocious', 'atrociously', 'atrocity', 'atrophy', 'atta',\n",
       "       'attach', 'attached', 'attachment', 'attack', 'attacker', 'attain',\n",
       "       'attainable', 'attempt', 'attend', 'attendance', 'attendant',\n",
       "       'attention', 'attentive', 'attentively', 'attest', 'attic',\n",
       "       'attire', 'attitude', 'attorney', 'attract', 'attraction',\n",
       "       'attractive', 'attractiveness', 'attractor', 'attributable',\n",
       "       'attribute', 'attribution', 'attrition', 'atwitter', 'atypical',\n",
       "       'auction', 'auctioneer', 'audacity', 'audible', 'audibly',\n",
       "       'audience', 'audient', 'audio', 'audiophile', 'audit', 'audition',\n",
       "       'auditive', 'auditorium', 'auditory', 'augh', 'aught', 'augment',\n",
       "       'augmentation', 'augmentative', 'augmented', 'august', 'auld',\n",
       "       'aunt', 'auntie', 'aura', 'aural', 'aurora', 'auspicious',\n",
       "       'austerity', 'authentic', 'authentically', 'authenticate',\n",
       "       'authentication', 'authenticator', 'authenticity', 'author',\n",
       "       'authoritarian', 'authoritarianism', 'authoritative', 'authority',\n",
       "       'authorization', 'authorize', 'authorized', 'autism', 'autist',\n",
       "       'autistic', 'auto', 'autobahn', 'autobiographical',\n",
       "       'autobiography', 'autocratic', 'autodidact', 'autoerotic',\n",
       "       'autograph', 'autological', 'automatic', 'automatically',\n",
       "       'automaton', 'automobile', 'automotive', 'autonomic', 'autonomous',\n",
       "       'autonomously', 'autonomy', 'autopilot', 'autopsy', 'autotrophic',\n",
       "       'autumn', 'auxiliary', 'ava', 'avail', 'availability', 'available',\n",
       "       'avalanche', 'avarice', 'avast', 'ave', 'avenge', 'avenger',\n",
       "       'avenging', 'avenue', 'average', 'averagely', 'averse', 'aversion',\n",
       "       'avert', 'averted', 'avian', 'aviary', 'aviation', 'aviator',\n",
       "       'avid', 'avidly', 'avo', 'avocado', 'avoid', 'avoidable',\n",
       "       'avoidance', 'aw', 'awa', 'await', 'awake', 'awaken', 'awakening',\n",
       "       'award', 'aware', 'awareness', 'awash', 'away', 'awd', 'awe',\n",
       "       'awesome', 'awesomely', 'awesomeness', 'awful', 'awfully',\n",
       "       'awfulness', 'awhile', 'awkward', 'awkwardly', 'awkwardness',\n",
       "       'awning', 'awoke', 'awry', 'ax', 'axe', 'axed', 'axes', 'axiom',\n",
       "       'axis', 'axle', 'ay', 'aye', 'azalea', 'azure', 'ba', 'baa',\n",
       "       'baba', 'babble', 'babbling', 'babby', 'babe', 'babied', 'babish',\n",
       "       'baboon', 'babushka', 'baby', 'bac', 'bacca', 'bach', 'bachelor',\n",
       "       'back', 'backache', 'backboard', 'backbone', 'backdoor',\n",
       "       'backdown', 'backdrop', 'backed', 'backer', 'backfire',\n",
       "       'backfiring', 'background', 'backhanded', 'backing', 'backlash',\n",
       "       'backlog', 'backside', 'backspace', 'backstage', 'backstroke',\n",
       "       'backtrack', 'backup', 'backward', 'backwards', 'backwash',\n",
       "       'backwater', 'backwoods', 'bacon', 'bacteria', 'bacterial',\n",
       "       'bacteriological', 'bacterium', 'bacula', 'bad', 'badge', 'badger',\n",
       "       'badlands', 'badly', 'badminton', 'badness', 'bae', 'baffle',\n",
       "       'baffling', 'bafflingly', 'bafta', 'bag', 'bagel', 'baggage',\n",
       "       'bagged', 'bagger', 'baggie', 'bagging', 'baggy', 'bagpipe',\n",
       "       'bagpipes', 'baguette', 'bah', 'bail', 'bailey', 'bailiff', 'bain',\n",
       "       'bait', 'baiter', 'bake', 'baked', 'baker', 'bakery', 'bakie',\n",
       "       'baking', 'bakula', 'bal', 'balaclava', 'balance', 'balanced',\n",
       "       'balancer', 'balancing', 'balboa', 'balcony', 'bald', 'balder',\n",
       "       'baldness', 'bale', 'balk', 'ball', 'ballad', 'balled', 'baller',\n",
       "       'ballerina', 'ballet', 'ballistic', 'balloon', 'ballooning',\n",
       "       'ballot', 'ballroom', 'balm', 'balmy', 'baloney', 'baloo', 'balsa',\n",
       "       'balsamic', 'balut', 'bam', 'bamboo', 'bamboozle', 'ban', 'banal',\n",
       "       'banana', 'band', 'bandage', 'bandanna', 'banded', 'bandicoot',\n",
       "       'banding', 'bandit', 'bane', 'bang', 'banger', 'banging',\n",
       "       'bangkok', 'banish', 'banishment', 'banjo', 'bank', 'banker',\n",
       "       'banking', 'bankrupt', 'bankruptcy', 'banner', 'banning',\n",
       "       'banquet', 'banshee', 'banter', 'banzai', 'baptism', 'baptize',\n",
       "       'bar', 'barad', 'barb', 'barbarian', 'barbaric', 'barbecue',\n",
       "       'barbed', 'barber', 'barbershop', 'barcelona', 'bard', 'bare',\n",
       "       'bareback', 'barefoot', 'barefooted', 'barely', 'bargain', 'barge',\n",
       "       'baring', 'bark', 'barker', 'barking', 'barley', 'barman', 'barn',\n",
       "       'barnacle', 'barney', 'barny', 'barnyard', 'barometer', 'baron',\n",
       "       'baroque', 'barrack', 'barracuda', 'barrage', 'barred', 'barrel',\n",
       "       'barreled', 'barren', 'barricade', 'barrier', 'barring', 'barrow',\n",
       "       'barrowman', 'barry', 'bartender', 'bartending', 'barter',\n",
       "       'barton', 'base', 'baseball', 'based', 'baseless', 'baseman',\n",
       "       'basement', 'bases', 'bash', 'bashful', 'basic', 'basically',\n",
       "       'basil', 'basilisk', 'basin', 'basis', 'bask', 'basket',\n",
       "       'basketball', 'bass', 'basset', 'bassist', 'bassoon', 'bast',\n",
       "       'bastard', 'bastardization', 'baste', 'baster', 'bastille',\n",
       "       'bastion', 'bat', 'batch', 'bate', 'bateman', 'bath', 'bathe',\n",
       "       'bather', 'bathing', 'bathrobe', 'bathroom', 'bathtub', 'bating',\n",
       "       'batman', 'baton', 'bats', 'battalion', 'batter', 'battered',\n",
       "       'battery', 'batting', 'battle', 'battled', 'battlefield',\n",
       "       'battleground', 'battleship', 'batty', 'batwing', 'baud', 'bawl',\n",
       "       'bawn', 'baxter', 'bay', 'bayonet', 'bazaar', 'bazooka', 'be',\n",
       "       'beach', 'beached', 'beacon', 'bead', 'beagle', 'beak', 'beaker',\n",
       "       'beam', 'beamed', 'beamer', 'beaming', 'bean', 'beanbag',\n",
       "       'beanbags', 'beanie', 'beano', 'beanstalk', 'beany', 'bear',\n",
       "       'bearable', 'beard', 'bearded', 'beardless', 'bearer', 'bearing',\n",
       "       'beast', 'beastie', 'beastly', 'beat', 'beatable', 'beaten',\n",
       "       'beater', 'beating', 'beau', 'beautification', 'beautiful',\n",
       "       'beautifully', 'beautify', 'beauty', 'beaver', 'bebop', 'because',\n",
       "       'beck', 'beckoning', 'become', 'becomes', 'becoming', 'bed',\n",
       "       'bedbug', 'bedding', 'bedframe', 'bedridden', 'bedrock', 'bedroom',\n",
       "       'bedside', 'bedspread', 'bedtime', 'bee', 'beef', 'beefsteak',\n",
       "       'beefy', 'beehive', 'beekeeper', 'beeline', 'been', 'beer', 'bees',\n",
       "       'beeswax', 'beet', 'beetle', 'beetroot', 'befall', 'before',\n",
       "       'beforehand', 'befriend', 'beg', 'beggar', 'begging', 'begin',\n",
       "       'beginner', 'beginning', 'begone', 'begrudgingly', 'begun',\n",
       "       'behalf', 'behave', 'behavior', 'behavioral', 'behaviorism',\n",
       "       'behaviour', 'behead', 'behemoth', 'behind', 'behold', 'beholden',\n",
       "       'beholder', 'beige', 'being', 'bel', 'belated', 'belch', 'belcher',\n",
       "       'belief', 'believability', 'believable', 'believe', 'believer',\n",
       "       'believing', 'belittle', 'belive', 'bell', 'belle', 'bellhop',\n",
       "       'bellied', 'belligerent', 'belligerently', 'bellow', 'bellows',\n",
       "       'bellwether', 'belly', 'belong', 'belonging', 'beloved', 'below',\n",
       "       'belt', 'belting', 'belvedere', 'bemoan', 'bemused', 'ben',\n",
       "       'bench', 'benching', 'bend', 'bendable', 'bended', 'bender',\n",
       "       'bending', 'bendy', 'beneath', 'benedict', 'benefactor',\n",
       "       'beneficial', 'beneficially', 'beneficiary', 'benefit', 'benet',\n",
       "       'benevolent', 'beng', 'benign', 'benignly', 'benjamin', 'benn',\n",
       "       'bennet', 'benny', 'bent', 'bequeath', 'ber', 'berate',\n",
       "       'bereavement', 'bereft', 'beret', 'berg', 'berger', 'berlin',\n",
       "       'berried', 'berry', 'berserk', 'berserker', 'berth', 'beside',\n",
       "       'besides', 'bespin', 'best', 'bestiality', 'bestow', 'bet', 'beta',\n",
       "       'beth', 'betray', 'betrayal', 'betrothed', 'better', 'bettering',\n",
       "       'betterment', 'betters', 'betting', 'betty', 'between', 'bever',\n",
       "       'beverage', 'beware', 'bewildered', 'bewildering', 'bewilderment',\n",
       "       'bewitching', 'bey', 'beyond', 'bezel', 'biannual', 'biannually',\n",
       "       'bias', 'bib', 'bibliography', 'bicentennial', 'biceps', 'bick',\n",
       "       'bicker', 'bicorn', 'bicycle', 'bicyclist', 'bid', 'bidder',\n",
       "       'bidding', 'bidet', 'biding', 'bidirectional', 'bien', 'biff',\n",
       "       'big', 'bigamy', 'bigger', 'biggest', 'bight', 'bigot', 'bigoted',\n",
       "       'bigotry', 'bike', 'bikini', 'bilbo', 'bile', 'bilingual',\n",
       "       'bilingualism', 'bill', 'billable', 'billboard', 'billed',\n",
       "       'billiard', 'billiards', 'billing', 'billion', 'billionaire',\n",
       "       'billionth', 'billon', 'billy', 'bimonthly', 'bin', 'binary',\n",
       "       'binaural', 'bind', 'binder', 'binding', 'bing', 'binge', 'bingo',\n",
       "       'binning', 'binocular', 'binomial', 'biochemical', 'biochemistry',\n",
       "       'biographer', 'biographical', 'biography', 'biologic',\n",
       "       'biological', 'biologically', 'biologist', 'biology',\n",
       "       'bioluminescence', 'bioluminescent', 'biome', 'biometric',\n",
       "       'biometrics', 'biopsy', 'bios', 'biosphere', 'biotic', 'biotics',\n",
       "       'bipartisan', 'bipartisanship', 'bipedal', 'bipolar', 'biracial',\n",
       "       'birch', 'bird', 'birdhouse', 'birdie', 'birdman', 'birdseed',\n",
       "       'birdy', 'birth', 'birthday', 'birthmark', 'birthplace',\n",
       "       'birthright', 'biscuit', 'bisexual', 'bisexuality', 'bishop',\n",
       "       'bison', 'bisque', 'bistro', 'bit', 'bitch', 'bite', 'biter',\n",
       "       'biting', 'bitten', 'bitter', 'bitterly', 'bitterness', 'bitters',\n",
       "       'bittersweet', 'bitty', 'biweekly', 'biz', 'bizarre', 'bizarrely',\n",
       "       'bizet', 'black', 'blackberry', 'blackbird', 'blackboard',\n",
       "       'blacken', 'blacker', 'blackface', 'blackfish', 'blackhead',\n",
       "       'blackheads', 'blacking', 'blackjack', 'blackmail', 'blackmailer',\n",
       "       'blackness', 'blackout', 'blacksmith', 'blacksmithing',\n",
       "       'blackwater', 'bladder', 'blade', 'bladed', 'blading', 'blah',\n",
       "       'blain', 'blair', 'blake', 'blame', 'blamed', 'blaming', 'blanc',\n",
       "       'bland', 'blandness', 'blank', 'blanked'], dtype=object)"
      ]
     },
     "execution_count": 102,
     "metadata": {},
     "output_type": "execute_result"
    }
   ],
   "source": [
    "cv_df.columns.values[1000:2000]"
   ]
  },
  {
   "cell_type": "code",
   "execution_count": 98,
   "metadata": {},
   "outputs": [
    {
     "name": "stdout",
     "output_type": "stream",
     "text": [
      "test\n"
     ]
    }
   ],
   "source": [
    "print('test')"
   ]
  },
  {
   "cell_type": "markdown",
   "metadata": {},
   "source": [
    "Get rid of any misspellings and non-english words."
   ]
  },
  {
   "cell_type": "code",
   "execution_count": 4,
   "metadata": {},
   "outputs": [],
   "source": [
    "df['title'] = df['title'].apply(lambda x: redditutils.strip_nums(x))"
   ]
  },
  {
   "cell_type": "code",
   "execution_count": null,
   "metadata": {},
   "outputs": [],
   "source": []
  },
  {
   "cell_type": "markdown",
   "metadata": {},
   "source": [
    "## Word count vectorization"
   ]
  },
  {
   "cell_type": "code",
   "execution_count": 6,
   "metadata": {},
   "outputs": [],
   "source": [
    "cv = CountVectorizer(stop_words = 'english', min_df = 2, max_df = .95, strip_accents = 'unicode',\n",
    "                     encoding = 'ISO-8859-1')"
   ]
  },
  {
   "cell_type": "code",
   "execution_count": 7,
   "metadata": {},
   "outputs": [],
   "source": [
    "X = cv.fit_transform(df['title'])"
   ]
  },
  {
   "cell_type": "code",
   "execution_count": 16,
   "metadata": {},
   "outputs": [],
   "source": [
    "cv_df = pd.DataFrame(X.toarray(), columns = cv.get_feature_names())"
   ]
  },
  {
   "cell_type": "code",
   "execution_count": 17,
   "metadata": {},
   "outputs": [
    {
     "data": {
      "text/html": [
       "<div>\n",
       "<style scoped>\n",
       "    .dataframe tbody tr th:only-of-type {\n",
       "        vertical-align: middle;\n",
       "    }\n",
       "\n",
       "    .dataframe tbody tr th {\n",
       "        vertical-align: top;\n",
       "    }\n",
       "\n",
       "    .dataframe thead th {\n",
       "        text-align: right;\n",
       "    }\n",
       "</style>\n",
       "<table border=\"1\" class=\"dataframe\">\n",
       "  <thead>\n",
       "    <tr style=\"text-align: right;\">\n",
       "      <th></th>\n",
       "      <th>1닷</th>\n",
       "      <th>1닷com</th>\n",
       "      <th>1닷콤</th>\n",
       "      <th>1점</th>\n",
       "      <th>1점coм</th>\n",
       "      <th>1쫌컴</th>\n",
       "      <th>4ᆞcom</th>\n",
       "      <th>TM</th>\n",
       "      <th>__</th>\n",
       "      <th>___</th>\n",
       "      <th>...</th>\n",
       "      <th>毕业证代办</th>\n",
       "      <th>毕业证办理</th>\n",
       "      <th>永久存档</th>\n",
       "      <th>留信网认证</th>\n",
       "      <th>留学回国人员证明</th>\n",
       "      <th>績單</th>\n",
       "      <th>荜业證</th>\n",
       "      <th>落户购买免税车</th>\n",
       "      <th>诚招代理</th>\n",
       "      <th>靠谱</th>\n",
       "    </tr>\n",
       "  </thead>\n",
       "  <tbody>\n",
       "    <tr>\n",
       "      <th>0</th>\n",
       "      <td>0</td>\n",
       "      <td>0</td>\n",
       "      <td>0</td>\n",
       "      <td>0</td>\n",
       "      <td>0</td>\n",
       "      <td>0</td>\n",
       "      <td>0</td>\n",
       "      <td>0</td>\n",
       "      <td>0</td>\n",
       "      <td>0</td>\n",
       "      <td>...</td>\n",
       "      <td>0</td>\n",
       "      <td>0</td>\n",
       "      <td>0</td>\n",
       "      <td>0</td>\n",
       "      <td>0</td>\n",
       "      <td>0</td>\n",
       "      <td>0</td>\n",
       "      <td>0</td>\n",
       "      <td>0</td>\n",
       "      <td>0</td>\n",
       "    </tr>\n",
       "    <tr>\n",
       "      <th>1</th>\n",
       "      <td>0</td>\n",
       "      <td>0</td>\n",
       "      <td>0</td>\n",
       "      <td>0</td>\n",
       "      <td>0</td>\n",
       "      <td>0</td>\n",
       "      <td>0</td>\n",
       "      <td>0</td>\n",
       "      <td>0</td>\n",
       "      <td>0</td>\n",
       "      <td>...</td>\n",
       "      <td>0</td>\n",
       "      <td>0</td>\n",
       "      <td>0</td>\n",
       "      <td>0</td>\n",
       "      <td>0</td>\n",
       "      <td>0</td>\n",
       "      <td>0</td>\n",
       "      <td>0</td>\n",
       "      <td>0</td>\n",
       "      <td>0</td>\n",
       "    </tr>\n",
       "    <tr>\n",
       "      <th>2</th>\n",
       "      <td>0</td>\n",
       "      <td>0</td>\n",
       "      <td>0</td>\n",
       "      <td>0</td>\n",
       "      <td>0</td>\n",
       "      <td>0</td>\n",
       "      <td>0</td>\n",
       "      <td>0</td>\n",
       "      <td>0</td>\n",
       "      <td>0</td>\n",
       "      <td>...</td>\n",
       "      <td>0</td>\n",
       "      <td>0</td>\n",
       "      <td>0</td>\n",
       "      <td>0</td>\n",
       "      <td>0</td>\n",
       "      <td>0</td>\n",
       "      <td>0</td>\n",
       "      <td>0</td>\n",
       "      <td>0</td>\n",
       "      <td>0</td>\n",
       "    </tr>\n",
       "    <tr>\n",
       "      <th>3</th>\n",
       "      <td>0</td>\n",
       "      <td>0</td>\n",
       "      <td>0</td>\n",
       "      <td>0</td>\n",
       "      <td>0</td>\n",
       "      <td>0</td>\n",
       "      <td>0</td>\n",
       "      <td>0</td>\n",
       "      <td>0</td>\n",
       "      <td>0</td>\n",
       "      <td>...</td>\n",
       "      <td>0</td>\n",
       "      <td>0</td>\n",
       "      <td>0</td>\n",
       "      <td>0</td>\n",
       "      <td>0</td>\n",
       "      <td>0</td>\n",
       "      <td>0</td>\n",
       "      <td>0</td>\n",
       "      <td>0</td>\n",
       "      <td>0</td>\n",
       "    </tr>\n",
       "    <tr>\n",
       "      <th>4</th>\n",
       "      <td>0</td>\n",
       "      <td>0</td>\n",
       "      <td>0</td>\n",
       "      <td>0</td>\n",
       "      <td>0</td>\n",
       "      <td>0</td>\n",
       "      <td>0</td>\n",
       "      <td>0</td>\n",
       "      <td>0</td>\n",
       "      <td>0</td>\n",
       "      <td>...</td>\n",
       "      <td>0</td>\n",
       "      <td>0</td>\n",
       "      <td>0</td>\n",
       "      <td>0</td>\n",
       "      <td>0</td>\n",
       "      <td>0</td>\n",
       "      <td>0</td>\n",
       "      <td>0</td>\n",
       "      <td>0</td>\n",
       "      <td>0</td>\n",
       "    </tr>\n",
       "  </tbody>\n",
       "</table>\n",
       "<p>5 rows × 59089 columns</p>\n",
       "</div>"
      ],
      "text/plain": [
       "   1닷  1닷com  1닷콤  1점  1점coм  1쫌컴  4ᆞcom  TM  __  ___ ...  \\\n",
       "0     0        0        0     0        0        0      0   0   0    0 ...   \n",
       "1     0        0        0     0        0        0      0   0   0    0 ...   \n",
       "2     0        0        0     0        0        0      0   0   0    0 ...   \n",
       "3     0        0        0     0        0        0      0   0   0    0 ...   \n",
       "4     0        0        0     0        0        0      0   0   0    0 ...   \n",
       "\n",
       "   毕业证代办  毕业证办理  永久存档  留信网认证  留学回国人员证明  績單  荜业證  落户购买免税车  诚招代理  靠谱  \n",
       "0      0      0     0      0         0   0    0        0     0   0  \n",
       "1      0      0     0      0         0   0    0        0     0   0  \n",
       "2      0      0     0      0         0   0    0        0     0   0  \n",
       "3      0      0     0      0         0   0    0        0     0   0  \n",
       "4      0      0     0      0         0   0    0        0     0   0  \n",
       "\n",
       "[5 rows x 59089 columns]"
      ]
     },
     "execution_count": 17,
     "metadata": {},
     "output_type": "execute_result"
    }
   ],
   "source": [
    "cv_df.head()"
   ]
  },
  {
   "cell_type": "code",
   "execution_count": null,
   "metadata": {},
   "outputs": [],
   "source": [
    "cv_df.sum(axis=1).order(ascending=False).head()"
   ]
  }
 ],
 "metadata": {
  "kernelspec": {
   "display_name": "Python 3",
   "language": "python",
   "name": "python3"
  },
  "language_info": {
   "codemirror_mode": {
    "name": "ipython",
    "version": 3
   },
   "file_extension": ".py",
   "mimetype": "text/x-python",
   "name": "python",
   "nbconvert_exporter": "python",
   "pygments_lexer": "ipython3",
   "version": "3.6.5"
  }
 },
 "nbformat": 4,
 "nbformat_minor": 2
}

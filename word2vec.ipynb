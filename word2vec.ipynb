{
 "cells": [
  {
   "cell_type": "code",
   "execution_count": 30,
   "metadata": {},
   "outputs": [
    {
     "name": "stdout",
     "output_type": "stream",
     "text": [
      "The autoreload extension is already loaded. To reload it, use:\n",
      "  %reload_ext autoreload\n"
     ]
    }
   ],
   "source": [
    "import pandas as pd\n",
    "import numpy as np\n",
    "import matplotlib.pyplot as plt\n",
    "import redditutils as ru\n",
    "\n",
    "from gensim.models import Word2Vec\n",
    "from nltk.corpus import stopwords \n",
    "from nltk.tokenize import word_tokenize \n",
    "\n",
    "%load_ext autoreload\n",
    "%autoreload 2"
   ]
  },
  {
   "cell_type": "code",
   "execution_count": 5,
   "metadata": {},
   "outputs": [],
   "source": [
    "df = pd.read_csv('showerthoughts.csv')"
   ]
  },
  {
   "cell_type": "code",
   "execution_count": 11,
   "metadata": {
    "collapsed": true
   },
   "outputs": [
    {
     "data": {
      "text/plain": [
       "0     Everyone that ' s ever said \" I ' m speechless...\n",
       "1     I wonder how many people I ' to who have been ...\n",
       "2     \" Palindrome \" is a let down as a word . Rhino...\n",
       "3     When you tell someone to keep a secret , it is...\n",
       "4     Someone had the the time to create the , \" Dic...\n",
       "5     are basically baby of fruit and now I feel hor...\n",
       "6     Nothing ever like the length of time it ' s su...\n",
       "7     If there were before we , we probably would ha...\n",
       "8         Life is like , on you ' re exploring deep web\n",
       "9     If the Star universe had an and he would have ...\n",
       "10    At some point , the top post of / r / was prob...\n",
       "11    If they ever make a device that ' t blink or m...\n",
       "12    With the avalanche , probably more people than...\n",
       "13    Which whale and dolphin species are worth flyi...\n",
       "14    I wonder how many people scale down \" Secret \"...\n",
       "15                       If you ask to be you cannot be\n",
       "16    There should be a word for the phenomenon of a...\n",
       "17        Rising and Ascending are basically synonymous\n",
       "18                           are like the antithesis to\n",
       "19    When young , one would have never thought they...\n",
       "20    Q - are not meant to be used in ear , yet clea...\n",
       "21    If could astral project , would she have total...\n",
       "22          World War is best thought of as trusting an\n",
       "23    Ouch , this water is too hot , better turn som...\n",
       "24                              To be a is the ultimate\n",
       "25                      Just an interesting thought ...\n",
       "26    \" Conversely , I \" would be a brilliant name f...\n",
       "27    What if technological advancement was the test...\n",
       "28    You buy something at Goodwill but you realize ...\n",
       "29    If life me , I doubt that my lemonade will rec...\n",
       "                            ...                        \n",
       "70    Pretty soon with the in electric , everybody i...\n",
       "71    Since we ' t supposed to mess around at work ,...\n",
       "72    What if Martin knew he was going to blow out h...\n",
       "73    Stagnant Wages . Low Participation . Slow Econ...\n",
       "74    If a post on r / Unexpected the front page its...\n",
       "75                    One bullet is a lifetime Supply .\n",
       "76                                     is a human dummy\n",
       "77    If came out with a marijuana flavored soda the...\n",
       "78    I listen to fast music because it me feel awak...\n",
       "79    Once you become a doctor , every appointment b...\n",
       "80    sex is a sign of sexual frustration . Not sex ...\n",
       "81    Seeing the new Star should come with a sticker...\n",
       "82    Every cute animal in you from your childhood i...\n",
       "83         Time when you ' re fun , in a time machine .\n",
       "84                   A barbershop quartet + = The Beach\n",
       "85    \" Yeah , it ' s pretty good \" should be with \"...\n",
       "86                                     the best music .\n",
       "87    ' t update their main site too much because th...\n",
       "88    While you are reading this reactor fuel is ste...\n",
       "89    Given how many times I ' , my body probably I ...\n",
       "90    Need to get my comment karma down from 2 to 0 ...\n",
       "91    Dogs have sensitive hearing . Therefore , they...\n",
       "92    I feel The Running Dead would make for a bette...\n",
       "93    When I jerk off in public , it ' s safe to say...\n",
       "94    I dont believe in crazy , I believe some peopl...\n",
       "95    Eventually we are going to have the Angry Fies...\n",
       "96                            My are literally a foot .\n",
       "97    In * * I think it ' s amazing how seamlessly t...\n",
       "98                   my opinion as a 20 year old person\n",
       "99    In modern society , it probably more to have t...\n",
       "Name: title, Length: 100, dtype: object"
      ]
     },
     "execution_count": 11,
     "metadata": {},
     "output_type": "execute_result"
    }
   ],
   "source": [
    "df['title'][:100].apply(lambda x: ru.strip_non_eng(x))"
   ]
  },
  {
   "cell_type": "code",
   "execution_count": 25,
   "metadata": {},
   "outputs": [],
   "source": [
    "df['title'] = df['title'].apply(lambda x: ru.clean_title(x))"
   ]
  },
  {
   "cell_type": "code",
   "execution_count": 28,
   "metadata": {},
   "outputs": [],
   "source": [
    "df['title'] = df['title'].apply(lambda x: ru.strip_non_eng(x))"
   ]
  },
  {
   "cell_type": "code",
   "execution_count": 37,
   "metadata": {},
   "outputs": [],
   "source": [
    "df['title'] = df['title'].apply(lambda x: ru.strip_stops(x))"
   ]
  },
  {
   "cell_type": "code",
   "execution_count": 40,
   "metadata": {},
   "outputs": [],
   "source": [
    "df['created_utc'] = pd.to_datetime(df['created_utc'], unit='s')"
   ]
  },
  {
   "cell_type": "code",
   "execution_count": 41,
   "metadata": {},
   "outputs": [
    {
     "data": {
      "text/html": [
       "<div>\n",
       "<style scoped>\n",
       "    .dataframe tbody tr th:only-of-type {\n",
       "        vertical-align: middle;\n",
       "    }\n",
       "\n",
       "    .dataframe tbody tr th {\n",
       "        vertical-align: top;\n",
       "    }\n",
       "\n",
       "    .dataframe thead th {\n",
       "        text-align: right;\n",
       "    }\n",
       "</style>\n",
       "<table border=\"1\" class=\"dataframe\">\n",
       "  <thead>\n",
       "    <tr style=\"text-align: right;\">\n",
       "      <th></th>\n",
       "      <th>author</th>\n",
       "      <th>title</th>\n",
       "      <th>subreddit</th>\n",
       "      <th>score</th>\n",
       "      <th>num_comments</th>\n",
       "      <th>retrieved_on</th>\n",
       "      <th>id</th>\n",
       "      <th>created_utc</th>\n",
       "      <th>selftext</th>\n",
       "    </tr>\n",
       "  </thead>\n",
       "  <tbody>\n",
       "    <tr>\n",
       "      <th>0</th>\n",
       "      <td>os_coxae</td>\n",
       "      <td>everyone thats ever said speechless liar</td>\n",
       "      <td>Showerthoughts</td>\n",
       "      <td>0</td>\n",
       "      <td>0</td>\n",
       "      <td>1466445837</td>\n",
       "      <td>4ixl2n</td>\n",
       "      <td>2016-05-11 22:38:48</td>\n",
       "      <td>NaN</td>\n",
       "    </tr>\n",
       "    <tr>\n",
       "      <th>1</th>\n",
       "      <td>Calrizle</td>\n",
       "      <td>wonder many people conversation</td>\n",
       "      <td>Showerthoughts</td>\n",
       "      <td>0</td>\n",
       "      <td>0</td>\n",
       "      <td>1466494743</td>\n",
       "      <td>4lfjxn</td>\n",
       "      <td>2016-05-28 12:03:56</td>\n",
       "      <td>NaN</td>\n",
       "    </tr>\n",
       "    <tr>\n",
       "      <th>2</th>\n",
       "      <td>[deleted]</td>\n",
       "      <td>palindrome let word rhinoplasty sure</td>\n",
       "      <td>Showerthoughts</td>\n",
       "      <td>0</td>\n",
       "      <td>0</td>\n",
       "      <td>1466493929</td>\n",
       "      <td>4ldt85</td>\n",
       "      <td>2016-05-28 01:21:03</td>\n",
       "      <td>[deleted]</td>\n",
       "    </tr>\n",
       "    <tr>\n",
       "      <th>3</th>\n",
       "      <td>[deleted]</td>\n",
       "      <td>tell someone keep secret longer secret</td>\n",
       "      <td>Showerthoughts</td>\n",
       "      <td>0</td>\n",
       "      <td>0</td>\n",
       "      <td>1466423373</td>\n",
       "      <td>4hmcbg</td>\n",
       "      <td>2016-05-03 08:30:35</td>\n",
       "      <td>[deleted]</td>\n",
       "    </tr>\n",
       "    <tr>\n",
       "      <th>4</th>\n",
       "      <td>[deleted]</td>\n",
       "      <td>someone time create dick penis vagina</td>\n",
       "      <td>Showerthoughts</td>\n",
       "      <td>0</td>\n",
       "      <td>0</td>\n",
       "      <td>1466474842</td>\n",
       "      <td>4k9ngz</td>\n",
       "      <td>2016-05-20 18:29:28</td>\n",
       "      <td>[deleted]</td>\n",
       "    </tr>\n",
       "  </tbody>\n",
       "</table>\n",
       "</div>"
      ],
      "text/plain": [
       "      author                                     title       subreddit  score  \\\n",
       "0   os_coxae  everyone thats ever said speechless liar  Showerthoughts      0   \n",
       "1   Calrizle           wonder many people conversation  Showerthoughts      0   \n",
       "2  [deleted]      palindrome let word rhinoplasty sure  Showerthoughts      0   \n",
       "3  [deleted]    tell someone keep secret longer secret  Showerthoughts      0   \n",
       "4  [deleted]     someone time create dick penis vagina  Showerthoughts      0   \n",
       "\n",
       "   num_comments  retrieved_on      id         created_utc   selftext  \n",
       "0             0    1466445837  4ixl2n 2016-05-11 22:38:48        NaN  \n",
       "1             0    1466494743  4lfjxn 2016-05-28 12:03:56        NaN  \n",
       "2             0    1466493929  4ldt85 2016-05-28 01:21:03  [deleted]  \n",
       "3             0    1466423373  4hmcbg 2016-05-03 08:30:35  [deleted]  \n",
       "4             0    1466474842  4k9ngz 2016-05-20 18:29:28  [deleted]  "
      ]
     },
     "execution_count": 41,
     "metadata": {},
     "output_type": "execute_result"
    }
   ],
   "source": [
    "df.head()"
   ]
  },
  {
   "cell_type": "code",
   "execution_count": 42,
   "metadata": {},
   "outputs": [],
   "source": [
    "df = df[['title', 'score', 'id', 'created_utc', 'selftext', 'num_comments']]"
   ]
  },
  {
   "cell_type": "code",
   "execution_count": null,
   "metadata": {},
   "outputs": [],
   "source": [
    "df.to_csv('cleaned_shower.csv')"
   ]
  }
 ],
 "metadata": {
  "kernelspec": {
   "display_name": "Python 3",
   "language": "python",
   "name": "python3"
  },
  "language_info": {
   "codemirror_mode": {
    "name": "ipython",
    "version": 3
   },
   "file_extension": ".py",
   "mimetype": "text/x-python",
   "name": "python",
   "nbconvert_exporter": "python",
   "pygments_lexer": "ipython3",
   "version": "3.6.5"
  }
 },
 "nbformat": 4,
 "nbformat_minor": 2
}

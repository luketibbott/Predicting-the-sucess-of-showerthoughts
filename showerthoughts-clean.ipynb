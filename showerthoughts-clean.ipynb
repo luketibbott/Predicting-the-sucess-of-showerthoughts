{
 "cells": [
  {
   "cell_type": "code",
   "execution_count": 1,
   "metadata": {},
   "outputs": [],
   "source": [
    "import requests\n",
    "import pandas as pd\n",
    "import numpy as np"
   ]
  },
  {
   "cell_type": "markdown",
   "metadata": {},
   "source": [
    "Suppress Pandas' automatic conversion of utc column to scientific notation:"
   ]
  },
  {
   "cell_type": "code",
   "execution_count": 31,
   "metadata": {},
   "outputs": [],
   "source": [
    "pd.set_option('display.float_format', lambda x: '%.3f' % x)"
   ]
  },
  {
   "cell_type": "code",
   "execution_count": 13,
   "metadata": {},
   "outputs": [
    {
     "name": "stdout",
     "output_type": "stream",
     "text": [
      "Project Fletcher Proposal.pdf reddit-ETL.ipynb\r\n",
      "README.md                     results.csv\r\n",
      "Untitled.ipynb                \u001b[34mseinfeld-chronicles\u001b[m\u001b[m\r\n",
      "Untitled1.ipynb               showerthoughts.csv\r\n",
      "darkweb-EDA.ipynb             test_csv.csv.\r\n"
     ]
    }
   ],
   "source": [
    "!ls"
   ]
  },
  {
   "cell_type": "code",
   "execution_count": 37,
   "metadata": {},
   "outputs": [],
   "source": [
    "df = pd.read_csv('showerthoughts.csv')"
   ]
  },
  {
   "cell_type": "code",
   "execution_count": 33,
   "metadata": {},
   "outputs": [
    {
     "data": {
      "text/plain": [
       "0.392702"
      ]
     },
     "execution_count": 33,
     "metadata": {},
     "output_type": "execute_result"
    }
   ],
   "source": [
    "len(df[df.score > 1]) / len(df)"
   ]
  },
  {
   "cell_type": "markdown",
   "metadata": {},
   "source": [
    "39% of submissions get more than one upvote. This makes \"greater than one upvote\" a good candidate for our criteria for a good post."
   ]
  },
  {
   "cell_type": "code",
   "execution_count": 34,
   "metadata": {},
   "outputs": [
    {
     "name": "stdout",
     "output_type": "stream",
     "text": [
      "<class 'pandas.core.frame.DataFrame'>\n",
      "RangeIndex: 1000000 entries, 0 to 999999\n",
      "Data columns (total 9 columns):\n",
      "author          1000000 non-null object\n",
      "title           1000000 non-null object\n",
      "subreddit       1000000 non-null object\n",
      "score           1000000 non-null int64\n",
      "num_comments    1000000 non-null int64\n",
      "retrieved_on    1000000 non-null int64\n",
      "id              1000000 non-null object\n",
      "created_utc     1000000 non-null int64\n",
      "selftext        591622 non-null object\n",
      "dtypes: int64(4), object(5)\n",
      "memory usage: 68.7+ MB\n"
     ]
    }
   ],
   "source": [
    "df.info()"
   ]
  },
  {
   "cell_type": "code",
   "execution_count": 27,
   "metadata": {},
   "outputs": [
    {
     "data": {
      "text/plain": [
       "1488331000.0"
      ]
     },
     "execution_count": 27,
     "metadata": {},
     "output_type": "execute_result"
    }
   ],
   "source": [
    "1.488331e+09"
   ]
  },
  {
   "cell_type": "code",
   "execution_count": 25,
   "metadata": {},
   "outputs": [
    {
     "data": {
      "text/plain": [
       "count    1.000000e+06\n",
       "mean     1.488331e+09\n",
       "std      2.760932e+07\n",
       "min      1.448928e+09\n",
       "25%      1.464054e+09\n",
       "50%      1.481319e+09\n",
       "75%      1.516312e+09\n",
       "max      1.538352e+09\n",
       "Name: created_utc, dtype: float64"
      ]
     },
     "execution_count": 25,
     "metadata": {},
     "output_type": "execute_result"
    }
   ],
   "source": [
    "df['created_utc'].describe()"
   ]
  },
  {
   "cell_type": "code",
   "execution_count": 24,
   "metadata": {
    "collapsed": true
   },
   "outputs": [
    {
     "data": {
      "text/plain": [
       "974654    1460242249\n",
       "288566    1521628631\n",
       "937006    1458172051\n",
       "971627    1487124774\n",
       "202176    1488623673\n",
       "673683    1456435678\n",
       "251694    1531561617\n",
       "349431    1459562655\n",
       "464993    1471551935\n",
       "297893    1521596759\n",
       "258668    1491915607\n",
       "336644    1492289293\n",
       "918674    1517987680\n",
       "471945    1516567360\n",
       "156915    1475754237\n",
       "190915    1454487587\n",
       "191325    1480641359\n",
       "838077    1480453355\n",
       "807965    1470410977\n",
       "512077    1527283268\n",
       "553303    1526575809\n",
       "48811     1491069608\n",
       "677746    1482324419\n",
       "836567    1482551938\n",
       "631051    1451464810\n",
       "350134    1475508395\n",
       "69349     1489465061\n",
       "812656    1520871620\n",
       "191900    1463598149\n",
       "559039    1522433041\n",
       "490269    1536891704\n",
       "42133     1464958858\n",
       "639626    1453412437\n",
       "607123    1493060202\n",
       "822216    1492231518\n",
       "833404    1470363418\n",
       "794743    1460470133\n",
       "43857     1534256826\n",
       "286474    1492642389\n",
       "167799    1491434859\n",
       "203519    1453168471\n",
       "954886    1521408886\n",
       "962310    1456399927\n",
       "988051    1516146942\n",
       "150552    1454939134\n",
       "526792    1531256819\n",
       "659571    1536873112\n",
       "799985    1532477795\n",
       "703857    1530728765\n",
       "755129    1452964815\n",
       "Name: created_utc, dtype: int64"
      ]
     },
     "execution_count": 24,
     "metadata": {},
     "output_type": "execute_result"
    }
   ],
   "source": [
    "df['created_utc'].sample(50)"
   ]
  },
  {
   "cell_type": "code",
   "execution_count": 39,
   "metadata": {
    "collapsed": true
   },
   "outputs": [
    {
     "data": {
      "text/plain": [
       "0         1463006328\n",
       "1         1464437036\n",
       "2         1464398463\n",
       "3         1462264235\n",
       "4         1463768968\n",
       "5         1463818100\n",
       "6         1462339275\n",
       "7         1462893634\n",
       "8         1464194421\n",
       "9         1464563622\n",
       "10        1462850501\n",
       "11        1464099692\n",
       "12        1463145496\n",
       "13        1463969786\n",
       "14        1462867893\n",
       "15        1463141251\n",
       "16        1463069083\n",
       "17        1463329142\n",
       "18        1464054024\n",
       "19        1462443170\n",
       "20        1463370239\n",
       "21        1463823241\n",
       "22        1464227645\n",
       "23        1464367685\n",
       "24        1464706379\n",
       "25        1464668677\n",
       "26        1462694698\n",
       "27        1463608432\n",
       "28        1464201614\n",
       "29        1463979154\n",
       "             ...    \n",
       "999970    1482081289\n",
       "999971    1449325801\n",
       "999972    1455190895\n",
       "999973    1536862595\n",
       "999974    1515051785\n",
       "999975    1480603272\n",
       "999976    1466499678\n",
       "999977    1490307638\n",
       "999978    1533601136\n",
       "999979    1516765931\n",
       "999980    1517960893\n",
       "999981    1537518386\n",
       "999982    1461285846\n",
       "999983    1532951102\n",
       "999984    1462927278\n",
       "999985    1517512508\n",
       "999986    1461161183\n",
       "999987    1535523837\n",
       "999988    1517310494\n",
       "999989    1526227307\n",
       "999990    1514216783\n",
       "999991    1521314774\n",
       "999992    1475450913\n",
       "999993    1490182668\n",
       "999994    1453132914\n",
       "999995    1482237451\n",
       "999996    1520104587\n",
       "999997    1457810059\n",
       "999998    1478976698\n",
       "999999    1452394676\n",
       "Name: created_utc, Length: 1000000, dtype: int64"
      ]
     },
     "execution_count": 39,
     "metadata": {},
     "output_type": "execute_result"
    }
   ],
   "source": [
    "df['created_utc']"
   ]
  },
  {
   "cell_type": "code",
   "execution_count": 41,
   "metadata": {},
   "outputs": [],
   "source": [
    "df['created_utc'] = pd.to_datetime(df['created_utc'], unit='s')"
   ]
  },
  {
   "cell_type": "code",
   "execution_count": 44,
   "metadata": {},
   "outputs": [
    {
     "data": {
      "text/plain": [
       "577900    Veruca Salt probably got more flavour out of W...\n",
       "532700    According to CaW, cells are people, but what a...\n",
       "932695    If you get shot in the head and instantly die,...\n",
       "960016    If a woman has 8 children, does that mean her ...\n",
       "951034    Condom manufacturers should add a small amount...\n",
       "462869    What if I never actually came down from that l...\n",
       "991490         If fire was invisible it’d be a lot scarier.\n",
       "178890    \"I'm not racist but...\" is almost always proce...\n",
       "167164                                       DOWN VOTE THIS\n",
       "938657    Saying you are \"pro-gun\" is similar to saying ...\n",
       "478762    Every movie theatre should announce ‘Hey Siri/...\n",
       "280704    I think it's hilarious that no matter what dir...\n",
       "482922    This AskReddit has made everyone of these unwr...\n",
       "299375    The recent proliferation of fake news is actua...\n",
       "31907     How did people come up with their reddit handle..\n",
       "433017    Do you read the headlines from BBC news differ...\n",
       "234765    When your showering and there’s a fire, should...\n",
       "733059    \"Can you keep a secret?\" Is only asked by peop...\n",
       "236295    I roll my eyes at the cheaper generic products...\n",
       "637520                                  Pro Life on planets\n",
       "237516    If Politics Were a Game Of Chess, Presidential...\n",
       "277456    “Butt dial” and “booty call” use synonyms but ...\n",
       "845597                 Skeletons are Everyone's Inner Demon\n",
       "958401    There must be a place where everything goes af...\n",
       "941222    \"eight five four nine one seven six ten three ...\n",
       "161185                              Phonetic isn't phonetic\n",
       "637919    Telling your spouse's parents that you are try...\n",
       "315844    Doctors are basically mechanics of biology and...\n",
       "350979    When I Reddit while drunk, I click the save bu...\n",
       "651444    If the United States didn't have its history o...\n",
       "43115             I farted and it sounded like a skype call\n",
       "977418    What actually is Victoria's Secret? Extra bra ...\n",
       "441538                      A wallet is just a paperweight.\n",
       "238553    Cold Shower Thought: [PSA] Guys who have never...\n",
       "672759    if gas pumps can be programmed to shut off at ...\n",
       "512257    I never grew out of needing a nightlight, it j...\n",
       "315001    Nobody is actually afraid of the dark. People ...\n",
       "941197          Dildos are toothbrushes if you use it right\n",
       "544570    Whenever someone says \"it's 5 o'clock somewher...\n",
       "460150          At what point does napping become sleeping?\n",
       "468354    I wish there were cameras that took gifs. Not ...\n",
       "333463    The antihero from the film Falling Down would ...\n",
       "265059    Why do we call it \"the roof of your mouth\" whe...\n",
       "116313    Under \"sort by\" on Reddit, Reddit should have ...\n",
       "633190    I don't care what my phone says. It isn't tomo...\n",
       "68475     I'm going to be more worried about dropping my...\n",
       "185336    People who don't delete their posts after an h...\n",
       "517042    Flatulence and it's putrid smell is our foods ...\n",
       "248029    Elizabeth Bennett would easily tear Lady Mary ...\n",
       "881090    when i think \"dogs\", i think a couple hundred ...\n",
       "Name: title, dtype: object"
      ]
     },
     "execution_count": 44,
     "metadata": {},
     "output_type": "execute_result"
    }
   ],
   "source": [
    "df.title.sample(50)"
   ]
  }
 ],
 "metadata": {
  "kernelspec": {
   "display_name": "Python 3",
   "language": "python",
   "name": "python3"
  },
  "language_info": {
   "codemirror_mode": {
    "name": "ipython",
    "version": 3
   },
   "file_extension": ".py",
   "mimetype": "text/x-python",
   "name": "python",
   "nbconvert_exporter": "python",
   "pygments_lexer": "ipython3",
   "version": "3.6.5"
  }
 },
 "nbformat": 4,
 "nbformat_minor": 2
}

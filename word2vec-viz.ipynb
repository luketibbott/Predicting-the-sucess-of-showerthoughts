{
 "cells": [
  {
   "cell_type": "markdown",
   "metadata": {},
   "source": [
    "# Word2vec visualization\n",
    "\n",
    "This notebook creates a visualization of how I embedded entire showerthoughts using their constituent words' embeddings."
   ]
  },
  {
   "cell_type": "code",
   "execution_count": 1,
   "metadata": {},
   "outputs": [],
   "source": [
    "import numpy as np\n",
    "import matplotlib.pyplot as plt\n",
    "\n",
    "%matplotlib inline"
   ]
  },
  {
   "cell_type": "code",
   "execution_count": 3,
   "metadata": {},
   "outputs": [],
   "source": [
    "z = [(.25, .75), (.25, .25), (.75, .25), (.75, .75)]"
   ]
  },
  {
   "cell_type": "code",
   "execution_count": 4,
   "metadata": {},
   "outputs": [],
   "source": [
    "xs = [t[0] for t in z]\n",
    "ys = [t[1] for t in z]"
   ]
  },
  {
   "cell_type": "code",
   "execution_count": 6,
   "metadata": {},
   "outputs": [],
   "source": [
    "words = ['small', 'quick', 'brown', 'fox']"
   ]
  },
  {
   "cell_type": "code",
   "execution_count": 28,
   "metadata": {},
   "outputs": [
    {
     "data": {
      "image/png": "[encoded data removed]",
      "text/plain": [
       "<Figure size 432x288 with 1 Axes>"
      ]
     },
     "metadata": {},
     "output_type": "display_data"
    }
   ],
   "source": [
    "fig, ax = plt.subplots()\n",
    "\n",
    "ax.scatter(xs, ys, color='green')\n",
    "\n",
    "ax.annotate('small', (.25, .70))\n",
    "\n",
    "ax.annotate('quick', (.25, .30))\n",
    "\n",
    "ax.annotate('brown', (.70, .30))\n",
    "\n",
    "ax.annotate('fox', (.70, .70))\n",
    "\n",
    "ax.set_title('Showerthought embedded as average of words')\n",
    "\n",
    "plt.plot([.5], [.5], marker='o', markersize=5, color=\"purple\")\n",
    "\n",
    "ax.annotate('small quick brown fox', (.42, .53))\n",
    "\n",
    "plt.savefig('embedding.png', dpi=300)"
   ]
  }
 ],
 "metadata": {
  "kernelspec": {
   "display_name": "Python 3",
   "language": "python",
   "name": "python3"
  },
  "language_info": {
   "codemirror_mode": {
    "name": "ipython",
    "version": 3
   },
   "file_extension": ".py",
   "mimetype": "text/x-python",
   "name": "python",
   "nbconvert_exporter": "python",
   "pygments_lexer": "ipython3",
   "version": "3.6.5"
  }
 },
 "nbformat": 4,
 "nbformat_minor": 2
}
